{
 "cells": [
  {
   "cell_type": "markdown",
   "metadata": {},
   "source": [
    "# Deep Learning Tutorial.\n",
    "## Binary Classification model with Keras Deep Learning\n",
    "### 1. Construct a multi-layer neural network model.\n",
    "### 2. Tune the hyper-parameters for training a model.\n",
    "### 3. Evaluate a model.\n"
   ]
  },
  {
   "cell_type": "code",
   "execution_count": null,
   "metadata": {},
   "outputs": [],
   "source": []
  },
  {
   "cell_type": "markdown",
   "metadata": {},
   "source": [
    "# Dataset:\n",
    "## Pima Indians Diabetes\n",
    "# Fields description follow:\n",
    "## preg = Number of times pregnant\n",
    "## plas = Plasma glucose concentration a 2 hours in an oral glucose tolerance test\n",
    "## pres = Diastolic blood pressure (mm Hg)\n",
    "## skin = Triceps skin fold thickness (mm)\n",
    "## test = 2-Hour serum insulin (mu U/ml)\n",
    "## mass = Body mass index (weight in kg/(height in m)^2)\n",
    "## pedi = Diabetes pedigree function\n",
    "## age = Age (years)\n",
    "## class = Class variable (1:tested positive for diabetes, 0: tested negative for diabetes)\n",
    "\n",
    "\n",
    "\n"
   ]
  },
  {
   "cell_type": "markdown",
   "metadata": {},
   "source": [
    "# Install the following:\n",
    "## pip install tensorflow==2.0.0\n",
    "\n",
    "\n"
   ]
  },
  {
   "cell_type": "markdown",
   "metadata": {},
   "source": [
    "# Download the data and then convert it to pandas dataframe to analyze it."
   ]
  },
  {
   "cell_type": "code",
   "execution_count": 1,
   "metadata": {},
   "outputs": [
    {
     "name": "stdout",
     "output_type": "stream",
     "text": [
      "Tensorflow version: 2.3.0\n"
     ]
    }
   ],
   "source": [
    "# for the operating system operations e.g., creating a folder.\n",
    "import os\n",
    "\n",
    "# Tensorflow and Keras are two packages for creating neural network models.\n",
    "import tensorflow as tf\n",
    "from tensorflow import keras\n",
    "\n",
    "from sklearn.model_selection import train_test_split\n",
    "\n",
    "# Print tensorfow (TF) version. Make sure you have at least tensorflow 2.1.0\n",
    "print(f\"Tensorflow version: {tf.version.VERSION}\")"
   ]
  },
  {
   "cell_type": "code",
   "execution_count": 2,
   "metadata": {},
   "outputs": [],
   "source": [
    "# import the dataset.\n",
    "# from tensorflow.keras.datasets import boston_housing\n",
    "\n",
    "# import NN layers and other componenets.\n",
    "from tensorflow.keras.models import Sequential\n",
    "from tensorflow.keras.layers import Activation, Dense, BatchNormalization, Dropout\n",
    "from tensorflow.keras import optimizers"
   ]
  },
  {
   "cell_type": "code",
   "execution_count": 3,
   "metadata": {},
   "outputs": [],
   "source": [
    "import matplotlib.pyplot as plt # for plotting data and creating different charts.\n",
    "import numpy as np # for math and arrays\n",
    "import pandas as pd # data from for the data.\n",
    "import seaborn as sns # for plotting."
   ]
  },
  {
   "cell_type": "code",
   "execution_count": 4,
   "metadata": {},
   "outputs": [],
   "source": [
    "tf.random.set_seed(13) # to make sure the experiment is reproducible.\n",
    "tf.debugging.set_log_device_placement(False)\n",
    "\n",
    "\n",
    "# uncomment the following line to use a GPU (Graphical Processing Unit) \n",
    "#if you have it available at your machine. This unit will make your code run faster.\n",
    "# tf.config.experimental.list_physical_devices('GPU')  "
   ]
  },
  {
   "cell_type": "code",
   "execution_count": 5,
   "metadata": {},
   "outputs": [
    {
     "data": {
      "text/html": [
       "<div>\n",
       "<style scoped>\n",
       "    .dataframe tbody tr th:only-of-type {\n",
       "        vertical-align: middle;\n",
       "    }\n",
       "\n",
       "    .dataframe tbody tr th {\n",
       "        vertical-align: top;\n",
       "    }\n",
       "\n",
       "    .dataframe thead th {\n",
       "        text-align: right;\n",
       "    }\n",
       "</style>\n",
       "<table border=\"1\" class=\"dataframe\">\n",
       "  <thead>\n",
       "    <tr style=\"text-align: right;\">\n",
       "      <th></th>\n",
       "      <th>preg</th>\n",
       "      <th>plas</th>\n",
       "      <th>pres</th>\n",
       "      <th>skin</th>\n",
       "      <th>test</th>\n",
       "      <th>mass</th>\n",
       "      <th>pedi</th>\n",
       "      <th>age</th>\n",
       "      <th>class</th>\n",
       "    </tr>\n",
       "  </thead>\n",
       "  <tbody>\n",
       "    <tr>\n",
       "      <th>0</th>\n",
       "      <td>6</td>\n",
       "      <td>148</td>\n",
       "      <td>72</td>\n",
       "      <td>35</td>\n",
       "      <td>0</td>\n",
       "      <td>33.6</td>\n",
       "      <td>0.627</td>\n",
       "      <td>50</td>\n",
       "      <td>1</td>\n",
       "    </tr>\n",
       "    <tr>\n",
       "      <th>1</th>\n",
       "      <td>1</td>\n",
       "      <td>85</td>\n",
       "      <td>66</td>\n",
       "      <td>29</td>\n",
       "      <td>0</td>\n",
       "      <td>26.6</td>\n",
       "      <td>0.351</td>\n",
       "      <td>31</td>\n",
       "      <td>0</td>\n",
       "    </tr>\n",
       "    <tr>\n",
       "      <th>2</th>\n",
       "      <td>8</td>\n",
       "      <td>183</td>\n",
       "      <td>64</td>\n",
       "      <td>0</td>\n",
       "      <td>0</td>\n",
       "      <td>23.3</td>\n",
       "      <td>0.672</td>\n",
       "      <td>32</td>\n",
       "      <td>1</td>\n",
       "    </tr>\n",
       "    <tr>\n",
       "      <th>3</th>\n",
       "      <td>1</td>\n",
       "      <td>89</td>\n",
       "      <td>66</td>\n",
       "      <td>23</td>\n",
       "      <td>94</td>\n",
       "      <td>28.1</td>\n",
       "      <td>0.167</td>\n",
       "      <td>21</td>\n",
       "      <td>0</td>\n",
       "    </tr>\n",
       "    <tr>\n",
       "      <th>4</th>\n",
       "      <td>0</td>\n",
       "      <td>137</td>\n",
       "      <td>40</td>\n",
       "      <td>35</td>\n",
       "      <td>168</td>\n",
       "      <td>43.1</td>\n",
       "      <td>2.288</td>\n",
       "      <td>33</td>\n",
       "      <td>1</td>\n",
       "    </tr>\n",
       "    <tr>\n",
       "      <th>...</th>\n",
       "      <td>...</td>\n",
       "      <td>...</td>\n",
       "      <td>...</td>\n",
       "      <td>...</td>\n",
       "      <td>...</td>\n",
       "      <td>...</td>\n",
       "      <td>...</td>\n",
       "      <td>...</td>\n",
       "      <td>...</td>\n",
       "    </tr>\n",
       "    <tr>\n",
       "      <th>763</th>\n",
       "      <td>10</td>\n",
       "      <td>101</td>\n",
       "      <td>76</td>\n",
       "      <td>48</td>\n",
       "      <td>180</td>\n",
       "      <td>32.9</td>\n",
       "      <td>0.171</td>\n",
       "      <td>63</td>\n",
       "      <td>0</td>\n",
       "    </tr>\n",
       "    <tr>\n",
       "      <th>764</th>\n",
       "      <td>2</td>\n",
       "      <td>122</td>\n",
       "      <td>70</td>\n",
       "      <td>27</td>\n",
       "      <td>0</td>\n",
       "      <td>36.8</td>\n",
       "      <td>0.340</td>\n",
       "      <td>27</td>\n",
       "      <td>0</td>\n",
       "    </tr>\n",
       "    <tr>\n",
       "      <th>765</th>\n",
       "      <td>5</td>\n",
       "      <td>121</td>\n",
       "      <td>72</td>\n",
       "      <td>23</td>\n",
       "      <td>112</td>\n",
       "      <td>26.2</td>\n",
       "      <td>0.245</td>\n",
       "      <td>30</td>\n",
       "      <td>0</td>\n",
       "    </tr>\n",
       "    <tr>\n",
       "      <th>766</th>\n",
       "      <td>1</td>\n",
       "      <td>126</td>\n",
       "      <td>60</td>\n",
       "      <td>0</td>\n",
       "      <td>0</td>\n",
       "      <td>30.1</td>\n",
       "      <td>0.349</td>\n",
       "      <td>47</td>\n",
       "      <td>1</td>\n",
       "    </tr>\n",
       "    <tr>\n",
       "      <th>767</th>\n",
       "      <td>1</td>\n",
       "      <td>93</td>\n",
       "      <td>70</td>\n",
       "      <td>31</td>\n",
       "      <td>0</td>\n",
       "      <td>30.4</td>\n",
       "      <td>0.315</td>\n",
       "      <td>23</td>\n",
       "      <td>0</td>\n",
       "    </tr>\n",
       "  </tbody>\n",
       "</table>\n",
       "<p>768 rows × 9 columns</p>\n",
       "</div>"
      ],
      "text/plain": [
       "     preg  plas  pres  skin  test  mass   pedi  age  class\n",
       "0       6   148    72    35     0  33.6  0.627   50      1\n",
       "1       1    85    66    29     0  26.6  0.351   31      0\n",
       "2       8   183    64     0     0  23.3  0.672   32      1\n",
       "3       1    89    66    23    94  28.1  0.167   21      0\n",
       "4       0   137    40    35   168  43.1  2.288   33      1\n",
       "..    ...   ...   ...   ...   ...   ...    ...  ...    ...\n",
       "763    10   101    76    48   180  32.9  0.171   63      0\n",
       "764     2   122    70    27     0  36.8  0.340   27      0\n",
       "765     5   121    72    23   112  26.2  0.245   30      0\n",
       "766     1   126    60     0     0  30.1  0.349   47      1\n",
       "767     1    93    70    31     0  30.4  0.315   23      0\n",
       "\n",
       "[768 rows x 9 columns]"
      ]
     },
     "execution_count": 5,
     "metadata": {},
     "output_type": "execute_result"
    }
   ],
   "source": [
    "all_ds = pd.read_csv('datasets_14370_19291_pima-indians-diabetes.csv')\n",
    "all_ds"
   ]
  },
  {
   "cell_type": "code",
   "execution_count": 6,
   "metadata": {},
   "outputs": [
    {
     "name": "stdout",
     "output_type": "stream",
     "text": [
      "Number of rows/examples and columns in the dataset: (768, 9)\n"
     ]
    }
   ],
   "source": [
    "print(f'Number of rows/examples and columns in the dataset: {all_ds.shape}')"
   ]
  },
  {
   "cell_type": "code",
   "execution_count": 7,
   "metadata": {},
   "outputs": [
    {
     "name": "stdout",
     "output_type": "stream",
     "text": [
      "<class 'pandas.core.frame.DataFrame'>\n",
      "RangeIndex: 768 entries, 0 to 767\n",
      "Data columns (total 9 columns):\n",
      " #   Column  Non-Null Count  Dtype  \n",
      "---  ------  --------------  -----  \n",
      " 0   preg    768 non-null    int64  \n",
      " 1   plas    768 non-null    int64  \n",
      " 2   pres    768 non-null    int64  \n",
      " 3   skin    768 non-null    int64  \n",
      " 4   test    768 non-null    int64  \n",
      " 5   mass    768 non-null    float64\n",
      " 6   pedi    768 non-null    float64\n",
      " 7   age     768 non-null    int64  \n",
      " 8   class   768 non-null    int64  \n",
      "dtypes: float64(2), int64(7)\n",
      "memory usage: 54.1 KB\n"
     ]
    }
   ],
   "source": [
    "# Summary of information on the dataset.\n",
    "all_ds.info()"
   ]
  },
  {
   "cell_type": "markdown",
   "metadata": {},
   "source": [
    "# Cleaning the data."
   ]
  },
  {
   "cell_type": "code",
   "execution_count": 8,
   "metadata": {},
   "outputs": [
    {
     "name": "stdout",
     "output_type": "stream",
     "text": [
      "Display NA values in each columns: \n"
     ]
    },
    {
     "data": {
      "text/plain": [
       "preg     0\n",
       "plas     0\n",
       "pres     0\n",
       "skin     0\n",
       "test     0\n",
       "mass     0\n",
       "pedi     0\n",
       "age      0\n",
       "class    0\n",
       "dtype: int64"
      ]
     },
     "execution_count": 8,
     "metadata": {},
     "output_type": "execute_result"
    }
   ],
   "source": [
    "print(\"Display NA values in each columns: \")\n",
    "all_ds.isna().sum(axis=0)"
   ]
  },
  {
   "cell_type": "code",
   "execution_count": 9,
   "metadata": {},
   "outputs": [
    {
     "name": "stdout",
     "output_type": "stream",
     "text": [
      "Display NA values in each row: \n"
     ]
    },
    {
     "data": {
      "text/plain": [
       "0      0\n",
       "1      0\n",
       "2      0\n",
       "3      0\n",
       "4      0\n",
       "      ..\n",
       "763    0\n",
       "764    0\n",
       "765    0\n",
       "766    0\n",
       "767    0\n",
       "Length: 768, dtype: int64"
      ]
     },
     "execution_count": 9,
     "metadata": {},
     "output_type": "execute_result"
    }
   ],
   "source": [
    "print(\"Display NA values in each row: \")\n",
    "all_ds.isna().sum(axis=1)"
   ]
  },
  {
   "cell_type": "code",
   "execution_count": 10,
   "metadata": {},
   "outputs": [
    {
     "name": "stdout",
     "output_type": "stream",
     "text": [
      "Display NULL values in each columns: \n"
     ]
    },
    {
     "data": {
      "text/plain": [
       "preg     0\n",
       "plas     0\n",
       "pres     0\n",
       "skin     0\n",
       "test     0\n",
       "mass     0\n",
       "pedi     0\n",
       "age      0\n",
       "class    0\n",
       "dtype: int64"
      ]
     },
     "execution_count": 10,
     "metadata": {},
     "output_type": "execute_result"
    }
   ],
   "source": [
    "print(\"Display NULL values in each columns: \")\n",
    "all_ds.isnull().sum()"
   ]
  },
  {
   "cell_type": "code",
   "execution_count": 11,
   "metadata": {},
   "outputs": [
    {
     "name": "stdout",
     "output_type": "stream",
     "text": [
      "Display NULL values in each row: \n"
     ]
    },
    {
     "data": {
      "text/plain": [
       "0      0\n",
       "1      0\n",
       "2      0\n",
       "3      0\n",
       "4      0\n",
       "      ..\n",
       "763    0\n",
       "764    0\n",
       "765    0\n",
       "766    0\n",
       "767    0\n",
       "Length: 768, dtype: int64"
      ]
     },
     "execution_count": 11,
     "metadata": {},
     "output_type": "execute_result"
    }
   ],
   "source": [
    "print(\"Display NULL values in each row: \")\n",
    "all_ds.isnull().sum(1)"
   ]
  },
  {
   "cell_type": "code",
   "execution_count": 12,
   "metadata": {},
   "outputs": [],
   "source": [
    "# Remove the rows with NA values.\n",
    "all_ds = all_ds.dropna()\n",
    "\n",
    "# You can also use the following line to fill the NA with Zeros.\n",
    "# all_ds = all_ds.fillna(0)\n",
    "# all_ds = all_ds.fillna(mean_of_column)\n",
    "\n"
   ]
  },
  {
   "cell_type": "code",
   "execution_count": 13,
   "metadata": {},
   "outputs": [
    {
     "data": {
      "text/plain": [
       "(20, 9)"
      ]
     },
     "execution_count": 13,
     "metadata": {},
     "output_type": "execute_result"
    }
   ],
   "source": [
    "# slice the data set and keep last n rows of the dataset.  E.g., you want to save the last 20 rows from the dataset into a new dataset.\n",
    "n = 20\n",
    "temp_ds = all_ds[:n]\n",
    "temp_ds.shape"
   ]
  },
  {
   "cell_type": "markdown",
   "metadata": {},
   "source": [
    "# Sample the dataset randomly and return fraction (e.g., frac=50% will return 50% of the data) from the dataset."
   ]
  },
  {
   "cell_type": "code",
   "execution_count": 14,
   "metadata": {},
   "outputs": [],
   "source": [
    "# all_ds[10:]\n",
    "# all_ds.sample(frac=1) # this will shuffle all of the dataset and randomly re-organize the rows.\n",
    "\n",
    "all_ds = all_ds.sample(frac=1) # This will randomly shuffle the rows to make sure the data is not sorted. (if the data is sorted then we may end up with test dataset from one or two classes only)\n",
    "# all_ds_90pct = all_ds.sample(frac=0.9) # randomly sample the dataset and keep 90% of the rows.\n",
    "# all_ds_90pct.shape"
   ]
  },
  {
   "cell_type": "markdown",
   "metadata": {},
   "source": [
    "# Split the data into train/test splits."
   ]
  },
  {
   "cell_type": "code",
   "execution_count": 15,
   "metadata": {},
   "outputs": [],
   "source": [
    "# THis is an alternative method to split the data and replace train_test_split.\n",
    "# train_dataset = all_ds_90pct.sample(frac=0.6) # This will select 80\n",
    "# test_dataset = all_ds_90pct.drop(train_dataset.index)"
   ]
  },
  {
   "cell_type": "code",
   "execution_count": 16,
   "metadata": {},
   "outputs": [
    {
     "name": "stdout",
     "output_type": "stream",
     "text": [
      "(460, 9)\n",
      "(308, 9)\n"
     ]
    }
   ],
   "source": [
    "# Split the data into 60% train and 40% test (later will divide the test to test and validate.)\n",
    "train_dataset, temp_test_dataset =  train_test_split(all_ds, test_size=0.4)\n",
    "\n",
    "print( train_dataset.shape )\n",
    "print( temp_test_dataset.shape )"
   ]
  },
  {
   "cell_type": "code",
   "execution_count": 17,
   "metadata": {},
   "outputs": [
    {
     "name": "stdout",
     "output_type": "stream",
     "text": [
      "(154, 9)\n",
      "(154, 9)\n"
     ]
    }
   ],
   "source": [
    "# Split the test_dataset dataframe to 50% test and 50% validation. [this will divide the dataset into 60% train, 20% validate, and 20% test]\n",
    "test_dataset, valid_dataset =  train_test_split(temp_test_dataset, test_size=0.5)\n",
    "print( test_dataset.shape )\n",
    "print( valid_dataset.shape )"
   ]
  },
  {
   "cell_type": "code",
   "execution_count": 18,
   "metadata": {},
   "outputs": [
    {
     "name": "stdout",
     "output_type": "stream",
     "text": [
      "Display the datatype of the test_dataset: <class 'pandas.core.frame.DataFrame'>\n",
      " Trai dataset       : (460, 9)\n",
      " Test dataset       : (154, 9)\n",
      " Validation dataset : (154, 9)\n"
     ]
    }
   ],
   "source": [
    "print(f\"Display the datatype of the test_dataset: {type(test_dataset)}\")\n",
    "print(f\" Trai dataset       : {train_dataset.shape}\")\n",
    "print(f\" Test dataset       : {test_dataset.shape}\")\n",
    "print(f\" Validation dataset : {valid_dataset.shape}\")"
   ]
  },
  {
   "cell_type": "code",
   "execution_count": 19,
   "metadata": {},
   "outputs": [
    {
     "data": {
      "text/plain": [
       "<seaborn.axisgrid.PairGrid at 0x144966d10>"
      ]
     },
     "execution_count": 19,
     "metadata": {},
     "output_type": "execute_result"
    },
    {
     "data": {
      "image/png": "[encoded data removed]",
      "text/plain": [
       "<Figure size 1440x1440 with 72 Axes>"
      ]
     },
     "metadata": {
      "needs_background": "light"
     },
     "output_type": "display_data"
    }
   ],
   "source": [
    "# Plot the relationship between each two variables to spot anything incorrect.\n",
    "train_stats = train_dataset.describe()\n",
    "train_stats.pop(\"class\")\n",
    "sns.pairplot(train_stats[train_stats.columns], diag_kind=\"kde\") # or diag_kind='reg'\n"
   ]
  },
  {
   "cell_type": "code",
   "execution_count": 20,
   "metadata": {},
   "outputs": [
    {
     "data": {
      "text/html": [
       "<div>\n",
       "<style scoped>\n",
       "    .dataframe tbody tr th:only-of-type {\n",
       "        vertical-align: middle;\n",
       "    }\n",
       "\n",
       "    .dataframe tbody tr th {\n",
       "        vertical-align: top;\n",
       "    }\n",
       "\n",
       "    .dataframe thead th {\n",
       "        text-align: right;\n",
       "    }\n",
       "</style>\n",
       "<table border=\"1\" class=\"dataframe\">\n",
       "  <thead>\n",
       "    <tr style=\"text-align: right;\">\n",
       "      <th></th>\n",
       "      <th>count</th>\n",
       "      <th>mean</th>\n",
       "      <th>std</th>\n",
       "      <th>min</th>\n",
       "      <th>25%</th>\n",
       "      <th>50%</th>\n",
       "      <th>75%</th>\n",
       "      <th>max</th>\n",
       "    </tr>\n",
       "  </thead>\n",
       "  <tbody>\n",
       "    <tr>\n",
       "      <th>preg</th>\n",
       "      <td>460.0</td>\n",
       "      <td>3.841304</td>\n",
       "      <td>3.340977</td>\n",
       "      <td>0.000</td>\n",
       "      <td>1.000</td>\n",
       "      <td>3.000</td>\n",
       "      <td>6.0000</td>\n",
       "      <td>17.000</td>\n",
       "    </tr>\n",
       "    <tr>\n",
       "      <th>plas</th>\n",
       "      <td>460.0</td>\n",
       "      <td>119.817391</td>\n",
       "      <td>30.947586</td>\n",
       "      <td>0.000</td>\n",
       "      <td>99.000</td>\n",
       "      <td>115.000</td>\n",
       "      <td>139.2500</td>\n",
       "      <td>199.000</td>\n",
       "    </tr>\n",
       "    <tr>\n",
       "      <th>pres</th>\n",
       "      <td>460.0</td>\n",
       "      <td>68.202174</td>\n",
       "      <td>20.265030</td>\n",
       "      <td>0.000</td>\n",
       "      <td>62.000</td>\n",
       "      <td>70.000</td>\n",
       "      <td>80.0000</td>\n",
       "      <td>110.000</td>\n",
       "    </tr>\n",
       "    <tr>\n",
       "      <th>skin</th>\n",
       "      <td>460.0</td>\n",
       "      <td>19.569565</td>\n",
       "      <td>16.015160</td>\n",
       "      <td>0.000</td>\n",
       "      <td>0.000</td>\n",
       "      <td>21.000</td>\n",
       "      <td>32.0000</td>\n",
       "      <td>99.000</td>\n",
       "    </tr>\n",
       "    <tr>\n",
       "      <th>test</th>\n",
       "      <td>460.0</td>\n",
       "      <td>74.176087</td>\n",
       "      <td>106.479541</td>\n",
       "      <td>0.000</td>\n",
       "      <td>0.000</td>\n",
       "      <td>0.000</td>\n",
       "      <td>125.0000</td>\n",
       "      <td>680.000</td>\n",
       "    </tr>\n",
       "    <tr>\n",
       "      <th>mass</th>\n",
       "      <td>460.0</td>\n",
       "      <td>31.886304</td>\n",
       "      <td>7.669764</td>\n",
       "      <td>0.000</td>\n",
       "      <td>27.000</td>\n",
       "      <td>32.000</td>\n",
       "      <td>35.8250</td>\n",
       "      <td>67.100</td>\n",
       "    </tr>\n",
       "    <tr>\n",
       "      <th>pedi</th>\n",
       "      <td>460.0</td>\n",
       "      <td>0.477652</td>\n",
       "      <td>0.330551</td>\n",
       "      <td>0.078</td>\n",
       "      <td>0.238</td>\n",
       "      <td>0.368</td>\n",
       "      <td>0.6475</td>\n",
       "      <td>1.893</td>\n",
       "    </tr>\n",
       "    <tr>\n",
       "      <th>age</th>\n",
       "      <td>460.0</td>\n",
       "      <td>33.423913</td>\n",
       "      <td>11.914029</td>\n",
       "      <td>21.000</td>\n",
       "      <td>24.000</td>\n",
       "      <td>29.000</td>\n",
       "      <td>41.0000</td>\n",
       "      <td>72.000</td>\n",
       "    </tr>\n",
       "  </tbody>\n",
       "</table>\n",
       "</div>"
      ],
      "text/plain": [
       "      count        mean         std     min     25%      50%       75%  \\\n",
       "preg  460.0    3.841304    3.340977   0.000   1.000    3.000    6.0000   \n",
       "plas  460.0  119.817391   30.947586   0.000  99.000  115.000  139.2500   \n",
       "pres  460.0   68.202174   20.265030   0.000  62.000   70.000   80.0000   \n",
       "skin  460.0   19.569565   16.015160   0.000   0.000   21.000   32.0000   \n",
       "test  460.0   74.176087  106.479541   0.000   0.000    0.000  125.0000   \n",
       "mass  460.0   31.886304    7.669764   0.000  27.000   32.000   35.8250   \n",
       "pedi  460.0    0.477652    0.330551   0.078   0.238    0.368    0.6475   \n",
       "age   460.0   33.423913   11.914029  21.000  24.000   29.000   41.0000   \n",
       "\n",
       "          max  \n",
       "preg   17.000  \n",
       "plas  199.000  \n",
       "pres  110.000  \n",
       "skin   99.000  \n",
       "test  680.000  \n",
       "mass   67.100  \n",
       "pedi    1.893  \n",
       "age    72.000  "
      ]
     },
     "execution_count": 20,
     "metadata": {},
     "output_type": "execute_result"
    }
   ],
   "source": [
    "# Statistics on the train dataset to make sure it is in a good shape. (you may display the same stat for test and validate)\n",
    "train_stats = train_dataset.describe()\n",
    "train_stats.pop(\"class\")\n",
    "train_stats = train_stats.transpose()\n",
    "train_stats"
   ]
  },
  {
   "cell_type": "markdown",
   "metadata": {},
   "source": [
    "# class = Class variable (1:tested positive for diabetes, 0: tested negative for diabetes)\n",
    "# We will remove them from each dataset split (train, test, validate) and save them into new variables.\n",
    "## Note: we maintain the order of the labels and data from now on to make sure each example/row is associated with the right label."
   ]
  },
  {
   "cell_type": "code",
   "execution_count": 21,
   "metadata": {},
   "outputs": [],
   "source": [
    "\n",
    "train_labels = train_dataset.pop('class')\n",
    "test_labels = test_dataset.pop('class')\n",
    "valid_labels = valid_dataset.pop('class')"
   ]
  },
  {
   "cell_type": "markdown",
   "metadata": {},
   "source": [
    "# Data Normalization/Scaling\n",
    "## Subtract the mean of the training data and divide by the standard deviation of the training data."
   ]
  },
  {
   "cell_type": "code",
   "execution_count": 22,
   "metadata": {},
   "outputs": [],
   "source": [
    "# define a function to normalize the data set.\n",
    "def norm(x):\n",
    "    return (x - train_stats['mean']) / train_stats['std']\n",
    "normed_train_data = norm(train_dataset)\n",
    "normed_test_data = norm(test_dataset)\n",
    "normed_valid_dataset = norm(valid_dataset)\n"
   ]
  },
  {
   "cell_type": "code",
   "execution_count": 23,
   "metadata": {},
   "outputs": [
    {
     "name": "stdout",
     "output_type": "stream",
     "text": [
      "Train/Test/Validate splits: \n",
      "Train    : (460, 8) \n",
      "Test     : (154, 8) \n",
      "Validate : (154, 8) \n",
      "Train/Test/Validate labels: \n",
      "Train Labels : (460,) \n",
      "Test Labels  : (154,) \n",
      "Test Labels  : (154,) \n"
     ]
    }
   ],
   "source": [
    "print(r'Train/Test/Validate splits: ')\n",
    "print(f'Train    : {normed_train_data.shape} ')\n",
    "print(f'Test     : {normed_test_data.shape} ')\n",
    "print(f'Validate : {normed_valid_dataset.shape} ')\n",
    "\n",
    "print(r'Train/Test/Validate labels: ')\n",
    "print(f'Train Labels : {train_labels.shape} ')\n",
    "print(f'Test Labels  : {test_labels.shape} ')\n",
    "print(f'Test Labels  : {valid_labels.shape} ')\n"
   ]
  },
  {
   "cell_type": "code",
   "execution_count": 24,
   "metadata": {},
   "outputs": [
    {
     "data": {
      "text/html": [
       "<div>\n",
       "<style scoped>\n",
       "    .dataframe tbody tr th:only-of-type {\n",
       "        vertical-align: middle;\n",
       "    }\n",
       "\n",
       "    .dataframe tbody tr th {\n",
       "        vertical-align: top;\n",
       "    }\n",
       "\n",
       "    .dataframe thead th {\n",
       "        text-align: right;\n",
       "    }\n",
       "</style>\n",
       "<table border=\"1\" class=\"dataframe\">\n",
       "  <thead>\n",
       "    <tr style=\"text-align: right;\">\n",
       "      <th></th>\n",
       "      <th>preg</th>\n",
       "      <th>plas</th>\n",
       "      <th>pres</th>\n",
       "      <th>skin</th>\n",
       "      <th>test</th>\n",
       "      <th>mass</th>\n",
       "      <th>pedi</th>\n",
       "      <th>age</th>\n",
       "    </tr>\n",
       "  </thead>\n",
       "  <tbody>\n",
       "    <tr>\n",
       "      <th>531</th>\n",
       "      <td>-1.149755</td>\n",
       "      <td>-0.414164</td>\n",
       "      <td>0.384792</td>\n",
       "      <td>-1.221940</td>\n",
       "      <td>-0.696623</td>\n",
       "      <td>1.748906</td>\n",
       "      <td>0.630305</td>\n",
       "      <td>-0.790993</td>\n",
       "    </tr>\n",
       "    <tr>\n",
       "      <th>758</th>\n",
       "      <td>-0.850441</td>\n",
       "      <td>-0.446477</td>\n",
       "      <td>0.384792</td>\n",
       "      <td>-1.221940</td>\n",
       "      <td>-0.696623</td>\n",
       "      <td>0.731925</td>\n",
       "      <td>-0.849044</td>\n",
       "      <td>-0.623124</td>\n",
       "    </tr>\n",
       "    <tr>\n",
       "      <th>308</th>\n",
       "      <td>-1.149755</td>\n",
       "      <td>0.264402</td>\n",
       "      <td>-0.009976</td>\n",
       "      <td>-0.035564</td>\n",
       "      <td>0.993843</td>\n",
       "      <td>-0.180749</td>\n",
       "      <td>2.763108</td>\n",
       "      <td>-0.707058</td>\n",
       "    </tr>\n",
       "    <tr>\n",
       "      <th>616</th>\n",
       "      <td>0.646127</td>\n",
       "      <td>-0.091038</td>\n",
       "      <td>1.371714</td>\n",
       "      <td>-1.221940</td>\n",
       "      <td>-0.696623</td>\n",
       "      <td>-0.415437</td>\n",
       "      <td>-0.970054</td>\n",
       "      <td>-0.287385</td>\n",
       "    </tr>\n",
       "    <tr>\n",
       "      <th>720</th>\n",
       "      <td>0.047500</td>\n",
       "      <td>-1.189669</td>\n",
       "      <td>0.878253</td>\n",
       "      <td>-0.035564</td>\n",
       "      <td>-0.696623</td>\n",
       "      <td>-0.337208</td>\n",
       "      <td>-0.486013</td>\n",
       "      <td>0.048354</td>\n",
       "    </tr>\n",
       "    <tr>\n",
       "      <th>280</th>\n",
       "      <td>-1.149755</td>\n",
       "      <td>0.846031</td>\n",
       "      <td>0.088716</td>\n",
       "      <td>-1.221940</td>\n",
       "      <td>-0.696623</td>\n",
       "      <td>0.784078</td>\n",
       "      <td>-0.434584</td>\n",
       "      <td>-0.455254</td>\n",
       "    </tr>\n",
       "    <tr>\n",
       "      <th>601</th>\n",
       "      <td>0.646127</td>\n",
       "      <td>-0.769604</td>\n",
       "      <td>-3.365511</td>\n",
       "      <td>-1.221940</td>\n",
       "      <td>-0.696623</td>\n",
       "      <td>-1.067348</td>\n",
       "      <td>-0.870221</td>\n",
       "      <td>-0.455254</td>\n",
       "    </tr>\n",
       "    <tr>\n",
       "      <th>442</th>\n",
       "      <td>0.047500</td>\n",
       "      <td>-0.091038</td>\n",
       "      <td>-0.207361</td>\n",
       "      <td>0.463963</td>\n",
       "      <td>0.430354</td>\n",
       "      <td>0.171282</td>\n",
       "      <td>-0.749210</td>\n",
       "      <td>-0.790993</td>\n",
       "    </tr>\n",
       "    <tr>\n",
       "      <th>580</th>\n",
       "      <td>-1.149755</td>\n",
       "      <td>1.007594</td>\n",
       "      <td>1.075637</td>\n",
       "      <td>1.650338</td>\n",
       "      <td>-0.696623</td>\n",
       "      <td>1.331683</td>\n",
       "      <td>-0.322650</td>\n",
       "      <td>-1.042797</td>\n",
       "    </tr>\n",
       "    <tr>\n",
       "      <th>364</th>\n",
       "      <td>0.047500</td>\n",
       "      <td>0.878343</td>\n",
       "      <td>0.286100</td>\n",
       "      <td>0.339081</td>\n",
       "      <td>2.055079</td>\n",
       "      <td>0.392932</td>\n",
       "      <td>-0.280296</td>\n",
       "      <td>-0.287385</td>\n",
       "    </tr>\n",
       "  </tbody>\n",
       "</table>\n",
       "</div>"
      ],
      "text/plain": [
       "         preg      plas      pres      skin      test      mass      pedi  \\\n",
       "531 -1.149755 -0.414164  0.384792 -1.221940 -0.696623  1.748906  0.630305   \n",
       "758 -0.850441 -0.446477  0.384792 -1.221940 -0.696623  0.731925 -0.849044   \n",
       "308 -1.149755  0.264402 -0.009976 -0.035564  0.993843 -0.180749  2.763108   \n",
       "616  0.646127 -0.091038  1.371714 -1.221940 -0.696623 -0.415437 -0.970054   \n",
       "720  0.047500 -1.189669  0.878253 -0.035564 -0.696623 -0.337208 -0.486013   \n",
       "280 -1.149755  0.846031  0.088716 -1.221940 -0.696623  0.784078 -0.434584   \n",
       "601  0.646127 -0.769604 -3.365511 -1.221940 -0.696623 -1.067348 -0.870221   \n",
       "442  0.047500 -0.091038 -0.207361  0.463963  0.430354  0.171282 -0.749210   \n",
       "580 -1.149755  1.007594  1.075637  1.650338 -0.696623  1.331683 -0.322650   \n",
       "364  0.047500  0.878343  0.286100  0.339081  2.055079  0.392932 -0.280296   \n",
       "\n",
       "          age  \n",
       "531 -0.790993  \n",
       "758 -0.623124  \n",
       "308 -0.707058  \n",
       "616 -0.287385  \n",
       "720  0.048354  \n",
       "280 -0.455254  \n",
       "601 -0.455254  \n",
       "442 -0.790993  \n",
       "580 -1.042797  \n",
       "364 -0.287385  "
      ]
     },
     "execution_count": 24,
     "metadata": {},
     "output_type": "execute_result"
    }
   ],
   "source": [
    "# show a sample of the data after normalized\n",
    "normed_train_data.head(10)"
   ]
  },
  {
   "cell_type": "markdown",
   "metadata": {},
   "source": [
    "# Build a Neural Network Model "
   ]
  },
  {
   "cell_type": "code",
   "execution_count": 25,
   "metadata": {},
   "outputs": [
    {
     "name": "stdout",
     "output_type": "stream",
     "text": [
      "Here is a summary of this model: \n",
      "Model: \"sequential\"\n",
      "_________________________________________________________________\n",
      "Layer (type)                 Output Shape              Param #   \n",
      "=================================================================\n",
      "dense (Dense)                (None, 32)                288       \n",
      "_________________________________________________________________\n",
      "dense_1 (Dense)              (None, 32)                1056      \n",
      "_________________________________________________________________\n",
      "dense_2 (Dense)              (None, 64)                2112      \n",
      "_________________________________________________________________\n",
      "dense_3 (Dense)              (None, 128)               8320      \n",
      "_________________________________________________________________\n",
      "dense_4 (Dense)              (None, 1)                 129       \n",
      "=================================================================\n",
      "Total params: 11,905\n",
      "Trainable params: 11,905\n",
      "Non-trainable params: 0\n",
      "_________________________________________________________________\n"
     ]
    }
   ],
   "source": [
    "# We decalred a function for creating a model.\n",
    "def build_model2_three_hidden_layers():\n",
    "    # Keras model object created from Sequential class. This will be the container that contains all layers.\n",
    "    model = Sequential()\n",
    "\n",
    "    # The model so far is empty. It can be constructed by adding layers and compilation.\n",
    "    # This Keras model with multiple hidden layers.\n",
    "    \n",
    "    # Input Layer with 32 Neurons\n",
    "    model.add(Dense(32, input_shape = (normed_train_data.shape[1],)))    # Input layer => input_shape must be explicitly designated\n",
    "#     model.add(Activation('relu')) # relu or sigmoid.\n",
    "    \n",
    "    model.add(Dense(32,Activation('relu')))                         # Hidden layer 1 => only output dimension should be designated (output dimension = # of Neurons = 32)\n",
    "    \n",
    "    \n",
    "    model.add(Dense(64, Activation('relu')))                         # Hidden layer 2 => only output dimension should be designated (output dimension = # of Neurons = 64)\n",
    "    \n",
    "    \n",
    "    model.add(Dense(128, Activation('relu')))                         # Hidden layer 3 => only output dimension should be designated (output dimension = # of Neurons = 128)\n",
    "\n",
    "    \n",
    "    model.add(Dense(1))                          # Output layer => output dimension = 1 since it is a regression problem\n",
    "    \n",
    "    # Activation: sigmoid, softmax, tanh, relu, LeakyReLU. \n",
    "    #Optimizer: SGD, Adam, RMSProp, etc. # https://www.tensorflow.org/api_docs/python/tf/keras/optimizers\n",
    "    learning_rate = 0.001\n",
    "    optimizer = optimizers.SGD(learning_rate)\n",
    "    model.compile(loss=tf.keras.losses.BinaryCrossentropy(from_logits=True),\n",
    "                optimizer=optimizer,\n",
    "                metrics=['accuracy']) \n",
    "    return model\n",
    "\n",
    "model2 = build_model2_three_hidden_layers()\n",
    "print('Here is a summary of this model: ')\n",
    "model2.summary()"
   ]
  },
  {
   "cell_type": "markdown",
   "metadata": {},
   "source": [
    "# Training the model we built above."
   ]
  },
  {
   "cell_type": "code",
   "execution_count": 26,
   "metadata": {},
   "outputs": [
    {
     "name": "stdout",
     "output_type": "stream",
     "text": [
      "Here is a summary of this model: \n",
      "Model: \"sequential_1\"\n",
      "_________________________________________________________________\n",
      "Layer (type)                 Output Shape              Param #   \n",
      "=================================================================\n",
      "dense_5 (Dense)              (None, 32)                288       \n",
      "_________________________________________________________________\n",
      "dense_6 (Dense)              (None, 1)                 33        \n",
      "=================================================================\n",
      "Total params: 321\n",
      "Trainable params: 321\n",
      "Non-trainable params: 0\n",
      "_________________________________________________________________\n",
      "Epoch 1/100\n",
      "28/28 [==============================] - 0s 7ms/step - loss: 0.7871 - accuracy: 0.5580 - val_loss: 0.8373 - val_accuracy: 0.5000\n",
      "Epoch 2/100\n",
      "28/28 [==============================] - 0s 2ms/step - loss: 0.7771 - accuracy: 0.5743 - val_loss: 0.8351 - val_accuracy: 0.5000\n",
      "Epoch 3/100\n",
      "28/28 [==============================] - 0s 4ms/step - loss: 0.7799 - accuracy: 0.5698 - val_loss: 0.8329 - val_accuracy: 0.5065\n",
      "Epoch 4/100\n",
      "28/28 [==============================] - 0s 2ms/step - loss: 0.7778 - accuracy: 0.5788 - val_loss: 0.8307 - val_accuracy: 0.5065\n",
      "Epoch 5/100\n",
      "28/28 [==============================] - 0s 2ms/step - loss: 0.7828 - accuracy: 0.5495 - val_loss: 0.8285 - val_accuracy: 0.5065\n",
      "Epoch 6/100\n",
      "28/28 [==============================] - 0s 2ms/step - loss: 0.7686 - accuracy: 0.5676 - val_loss: 0.8263 - val_accuracy: 0.5130\n",
      "Epoch 7/100\n",
      "28/28 [==============================] - 0s 2ms/step - loss: 0.7711 - accuracy: 0.5653 - val_loss: 0.8243 - val_accuracy: 0.5195\n",
      "Epoch 8/100\n",
      "28/28 [==============================] - 0s 2ms/step - loss: 0.7837 - accuracy: 0.5901 - val_loss: 0.8220 - val_accuracy: 0.5195\n",
      "Epoch 9/100\n",
      "28/28 [==============================] - 0s 2ms/step - loss: 0.7721 - accuracy: 0.5676 - val_loss: 0.8199 - val_accuracy: 0.5195\n",
      "Epoch 10/100\n",
      "28/28 [==============================] - 0s 2ms/step - loss: 0.7448 - accuracy: 0.5968 - val_loss: 0.8179 - val_accuracy: 0.5260\n",
      "Epoch 11/100\n",
      "28/28 [==============================] - 0s 2ms/step - loss: 0.7705 - accuracy: 0.5923 - val_loss: 0.8158 - val_accuracy: 0.5260\n",
      "Epoch 12/100\n",
      "28/28 [==============================] - 0s 2ms/step - loss: 0.7549 - accuracy: 0.5946 - val_loss: 0.8138 - val_accuracy: 0.5260\n",
      "Epoch 13/100\n",
      "28/28 [==============================] - 0s 2ms/step - loss: 0.7661 - accuracy: 0.6059 - val_loss: 0.8117 - val_accuracy: 0.5260\n",
      "Epoch 14/100\n",
      "28/28 [==============================] - 0s 2ms/step - loss: 0.7577 - accuracy: 0.5946 - val_loss: 0.8097 - val_accuracy: 0.5260\n",
      "Epoch 15/100\n",
      "28/28 [==============================] - 0s 2ms/step - loss: 0.7632 - accuracy: 0.5586 - val_loss: 0.8076 - val_accuracy: 0.5260\n",
      "Epoch 16/100\n",
      "28/28 [==============================] - 0s 2ms/step - loss: 0.7403 - accuracy: 0.6036 - val_loss: 0.8057 - val_accuracy: 0.5390\n",
      "Epoch 17/100\n",
      "28/28 [==============================] - 0s 2ms/step - loss: 0.7592 - accuracy: 0.6014 - val_loss: 0.8037 - val_accuracy: 0.5390\n",
      "Epoch 18/100\n",
      "28/28 [==============================] - 0s 2ms/step - loss: 0.7617 - accuracy: 0.5991 - val_loss: 0.8017 - val_accuracy: 0.5390\n",
      "Epoch 19/100\n",
      "28/28 [==============================] - 0s 2ms/step - loss: 0.7215 - accuracy: 0.6239 - val_loss: 0.7999 - val_accuracy: 0.5390\n",
      "Epoch 20/100\n",
      "28/28 [==============================] - 0s 2ms/step - loss: 0.7593 - accuracy: 0.5856 - val_loss: 0.7979 - val_accuracy: 0.5390\n",
      "Epoch 21/100\n",
      "28/28 [==============================] - 0s 2ms/step - loss: 0.7390 - accuracy: 0.6149 - val_loss: 0.7961 - val_accuracy: 0.5390\n",
      "Epoch 22/100\n",
      "28/28 [==============================] - 0s 2ms/step - loss: 0.7506 - accuracy: 0.5991 - val_loss: 0.7940 - val_accuracy: 0.5390\n",
      "Epoch 23/100\n",
      "28/28 [==============================] - 0s 2ms/step - loss: 0.7375 - accuracy: 0.6171 - val_loss: 0.7921 - val_accuracy: 0.5390\n",
      "Epoch 24/100\n",
      "28/28 [==============================] - 0s 2ms/step - loss: 0.7350 - accuracy: 0.6171 - val_loss: 0.7903 - val_accuracy: 0.5455\n",
      "Epoch 25/100\n",
      "28/28 [==============================] - 0s 2ms/step - loss: 0.7481 - accuracy: 0.5968 - val_loss: 0.7884 - val_accuracy: 0.5455\n",
      "Epoch 26/100\n",
      "28/28 [==============================] - 0s 2ms/step - loss: 0.7361 - accuracy: 0.6149 - val_loss: 0.7865 - val_accuracy: 0.5455\n",
      "Epoch 27/100\n",
      "28/28 [==============================] - 0s 2ms/step - loss: 0.7242 - accuracy: 0.6284 - val_loss: 0.7847 - val_accuracy: 0.5519\n",
      "Epoch 28/100\n",
      "28/28 [==============================] - 0s 2ms/step - loss: 0.7327 - accuracy: 0.6194 - val_loss: 0.7829 - val_accuracy: 0.5519\n",
      "Epoch 29/100\n",
      "28/28 [==============================] - 0s 2ms/step - loss: 0.7308 - accuracy: 0.6216 - val_loss: 0.7811 - val_accuracy: 0.5519\n",
      "Epoch 30/100\n",
      "28/28 [==============================] - 0s 2ms/step - loss: 0.7279 - accuracy: 0.6228 - val_loss: 0.7793 - val_accuracy: 0.5519\n",
      "Epoch 31/100\n",
      "28/28 [==============================] - 0s 2ms/step - loss: 0.7268 - accuracy: 0.6239 - val_loss: 0.7775 - val_accuracy: 0.5584\n",
      "Epoch 32/100\n",
      "28/28 [==============================] - 0s 2ms/step - loss: 0.7319 - accuracy: 0.6261 - val_loss: 0.7758 - val_accuracy: 0.5584\n",
      "Epoch 33/100\n",
      "28/28 [==============================] - 0s 2ms/step - loss: 0.7115 - accuracy: 0.6464 - val_loss: 0.7741 - val_accuracy: 0.5584\n",
      "Epoch 34/100\n",
      "28/28 [==============================] - 0s 2ms/step - loss: 0.7238 - accuracy: 0.6216 - val_loss: 0.7724 - val_accuracy: 0.5584\n",
      "Epoch 35/100\n",
      "28/28 [==============================] - 0s 2ms/step - loss: 0.7139 - accuracy: 0.6509 - val_loss: 0.7706 - val_accuracy: 0.5714\n",
      "Epoch 36/100\n",
      "28/28 [==============================] - 0s 2ms/step - loss: 0.7186 - accuracy: 0.6306 - val_loss: 0.7688 - val_accuracy: 0.5714\n",
      "Epoch 37/100\n",
      "28/28 [==============================] - 0s 2ms/step - loss: 0.7322 - accuracy: 0.6239 - val_loss: 0.7671 - val_accuracy: 0.5714\n",
      "Epoch 38/100\n",
      "28/28 [==============================] - 0s 2ms/step - loss: 0.7113 - accuracy: 0.6284 - val_loss: 0.7654 - val_accuracy: 0.5714\n",
      "Epoch 39/100\n",
      "28/28 [==============================] - 0s 2ms/step - loss: 0.7031 - accuracy: 0.6667 - val_loss: 0.7638 - val_accuracy: 0.5779\n",
      "Epoch 40/100\n",
      "28/28 [==============================] - 0s 2ms/step - loss: 0.7016 - accuracy: 0.6396 - val_loss: 0.7622 - val_accuracy: 0.5779\n",
      "Epoch 41/100\n",
      "28/28 [==============================] - 0s 2ms/step - loss: 0.7242 - accuracy: 0.6532 - val_loss: 0.7605 - val_accuracy: 0.5779\n",
      "Epoch 42/100\n",
      "28/28 [==============================] - 0s 2ms/step - loss: 0.7049 - accuracy: 0.6509 - val_loss: 0.7589 - val_accuracy: 0.5779\n",
      "Epoch 43/100\n",
      "28/28 [==============================] - 0s 2ms/step - loss: 0.7156 - accuracy: 0.6441 - val_loss: 0.7572 - val_accuracy: 0.5844\n",
      "Epoch 44/100\n",
      "28/28 [==============================] - 0s 2ms/step - loss: 0.6918 - accuracy: 0.6441 - val_loss: 0.7557 - val_accuracy: 0.5844\n",
      "Epoch 45/100\n",
      "28/28 [==============================] - 0s 2ms/step - loss: 0.7126 - accuracy: 0.6351 - val_loss: 0.7540 - val_accuracy: 0.5844\n",
      "Epoch 46/100\n",
      "28/28 [==============================] - 0s 2ms/step - loss: 0.7096 - accuracy: 0.6464 - val_loss: 0.7523 - val_accuracy: 0.5844\n",
      "Epoch 47/100\n",
      "28/28 [==============================] - 0s 2ms/step - loss: 0.6857 - accuracy: 0.6734 - val_loss: 0.7509 - val_accuracy: 0.5844\n",
      "Epoch 48/100\n",
      "28/28 [==============================] - 0s 2ms/step - loss: 0.7003 - accuracy: 0.6554 - val_loss: 0.7494 - val_accuracy: 0.5974\n",
      "Epoch 49/100\n",
      "28/28 [==============================] - 0s 2ms/step - loss: 0.7034 - accuracy: 0.6351 - val_loss: 0.7477 - val_accuracy: 0.5974\n",
      "Epoch 50/100\n",
      "28/28 [==============================] - 0s 2ms/step - loss: 0.6744 - accuracy: 0.6734 - val_loss: 0.7464 - val_accuracy: 0.5909\n",
      "Epoch 51/100\n",
      "28/28 [==============================] - 0s 2ms/step - loss: 0.7202 - accuracy: 0.6261 - val_loss: 0.7447 - val_accuracy: 0.5909\n",
      "Epoch 52/100\n",
      "28/28 [==============================] - 0s 2ms/step - loss: 0.6883 - accuracy: 0.6554 - val_loss: 0.7433 - val_accuracy: 0.5909\n",
      "Epoch 53/100\n",
      "28/28 [==============================] - 0s 2ms/step - loss: 0.6974 - accuracy: 0.6599 - val_loss: 0.7416 - val_accuracy: 0.5974\n",
      "Epoch 54/100\n",
      "28/28 [==============================] - 0s 2ms/step - loss: 0.6716 - accuracy: 0.6577 - val_loss: 0.7403 - val_accuracy: 0.5974\n",
      "Epoch 55/100\n",
      "28/28 [==============================] - 0s 2ms/step - loss: 0.6996 - accuracy: 0.6532 - val_loss: 0.7388 - val_accuracy: 0.5974\n",
      "Epoch 56/100\n",
      "28/28 [==============================] - 0s 2ms/step - loss: 0.6846 - accuracy: 0.6622 - val_loss: 0.7373 - val_accuracy: 0.5974\n",
      "Epoch 57/100\n",
      "28/28 [==============================] - 0s 2ms/step - loss: 0.6851 - accuracy: 0.6599 - val_loss: 0.7359 - val_accuracy: 0.5974\n",
      "Epoch 58/100\n",
      "28/28 [==============================] - 0s 2ms/step - loss: 0.6855 - accuracy: 0.6644 - val_loss: 0.7344 - val_accuracy: 0.5974\n",
      "Epoch 59/100\n",
      "28/28 [==============================] - 0s 2ms/step - loss: 0.6835 - accuracy: 0.6585 - val_loss: 0.7330 - val_accuracy: 0.5909\n",
      "Epoch 60/100\n",
      "28/28 [==============================] - 0s 2ms/step - loss: 0.6793 - accuracy: 0.6622 - val_loss: 0.7316 - val_accuracy: 0.5909\n",
      "Epoch 61/100\n",
      "28/28 [==============================] - 0s 2ms/step - loss: 0.6830 - accuracy: 0.6712 - val_loss: 0.7301 - val_accuracy: 0.5909\n",
      "Epoch 62/100\n",
      "28/28 [==============================] - 0s 2ms/step - loss: 0.6750 - accuracy: 0.6644 - val_loss: 0.7287 - val_accuracy: 0.5909\n",
      "Epoch 63/100\n",
      "28/28 [==============================] - 0s 2ms/step - loss: 0.6837 - accuracy: 0.6622 - val_loss: 0.7274 - val_accuracy: 0.5909\n",
      "Epoch 64/100\n",
      "28/28 [==============================] - 0s 2ms/step - loss: 0.6739 - accuracy: 0.6914 - val_loss: 0.7260 - val_accuracy: 0.5909\n",
      "Epoch 65/100\n",
      "28/28 [==============================] - 0s 2ms/step - loss: 0.6713 - accuracy: 0.6599 - val_loss: 0.7247 - val_accuracy: 0.5909\n",
      "Epoch 66/100\n",
      "28/28 [==============================] - 0s 2ms/step - loss: 0.6691 - accuracy: 0.6734 - val_loss: 0.7233 - val_accuracy: 0.5909\n",
      "Epoch 67/100\n",
      "28/28 [==============================] - 0s 2ms/step - loss: 0.6771 - accuracy: 0.6599 - val_loss: 0.7220 - val_accuracy: 0.5909\n",
      "Epoch 68/100\n",
      "28/28 [==============================] - 0s 2ms/step - loss: 0.6674 - accuracy: 0.6779 - val_loss: 0.7207 - val_accuracy: 0.5909\n",
      "Epoch 69/100\n",
      "28/28 [==============================] - 0s 2ms/step - loss: 0.6824 - accuracy: 0.6824 - val_loss: 0.7193 - val_accuracy: 0.5909\n",
      "Epoch 70/100\n",
      "28/28 [==============================] - 0s 6ms/step - loss: 0.6631 - accuracy: 0.6577 - val_loss: 0.7179 - val_accuracy: 0.5909\n",
      "Epoch 71/100\n",
      "28/28 [==============================] - 0s 3ms/step - loss: 0.6661 - accuracy: 0.6734 - val_loss: 0.7167 - val_accuracy: 0.5844\n",
      "Epoch 72/100\n",
      "28/28 [==============================] - 0s 3ms/step - loss: 0.6566 - accuracy: 0.6847 - val_loss: 0.7155 - val_accuracy: 0.5974\n",
      "Epoch 73/100\n",
      "28/28 [==============================] - 0s 4ms/step - loss: 0.6796 - accuracy: 0.6802 - val_loss: 0.7141 - val_accuracy: 0.5974\n",
      "Epoch 74/100\n",
      "28/28 [==============================] - 0s 2ms/step - loss: 0.6527 - accuracy: 0.6734 - val_loss: 0.7128 - val_accuracy: 0.5974\n",
      "Epoch 75/100\n",
      "28/28 [==============================] - 0s 2ms/step - loss: 0.6636 - accuracy: 0.6689 - val_loss: 0.7116 - val_accuracy: 0.5974\n",
      "Epoch 76/100\n",
      "28/28 [==============================] - 0s 4ms/step - loss: 0.6583 - accuracy: 0.6869 - val_loss: 0.7103 - val_accuracy: 0.5974\n",
      "Epoch 77/100\n",
      "28/28 [==============================] - 0s 2ms/step - loss: 0.6645 - accuracy: 0.6802 - val_loss: 0.7090 - val_accuracy: 0.6039\n",
      "Epoch 78/100\n",
      "28/28 [==============================] - 0s 2ms/step - loss: 0.6611 - accuracy: 0.6757 - val_loss: 0.7078 - val_accuracy: 0.5974\n",
      "Epoch 79/100\n",
      "28/28 [==============================] - 0s 3ms/step - loss: 0.6589 - accuracy: 0.6779 - val_loss: 0.7065 - val_accuracy: 0.6039\n",
      "Epoch 80/100\n",
      "28/28 [==============================] - 0s 2ms/step - loss: 0.6498 - accuracy: 0.6959 - val_loss: 0.7054 - val_accuracy: 0.6039\n",
      "Epoch 81/100\n",
      "28/28 [==============================] - 0s 2ms/step - loss: 0.6581 - accuracy: 0.6622 - val_loss: 0.7041 - val_accuracy: 0.6039\n",
      "Epoch 82/100\n",
      "28/28 [==============================] - 0s 2ms/step - loss: 0.6570 - accuracy: 0.6892 - val_loss: 0.7029 - val_accuracy: 0.6039\n",
      "Epoch 83/100\n",
      "28/28 [==============================] - 0s 2ms/step - loss: 0.6547 - accuracy: 0.6689 - val_loss: 0.7017 - val_accuracy: 0.6039\n",
      "Epoch 84/100\n",
      "28/28 [==============================] - 0s 2ms/step - loss: 0.6576 - accuracy: 0.6667 - val_loss: 0.7005 - val_accuracy: 0.6039\n",
      "Epoch 85/100\n",
      "28/28 [==============================] - 0s 2ms/step - loss: 0.6488 - accuracy: 0.6847 - val_loss: 0.6993 - val_accuracy: 0.6039\n",
      "Epoch 86/100\n",
      "28/28 [==============================] - 0s 2ms/step - loss: 0.6446 - accuracy: 0.6779 - val_loss: 0.6982 - val_accuracy: 0.6104\n",
      "Epoch 87/100\n",
      "28/28 [==============================] - 0s 3ms/step - loss: 0.6480 - accuracy: 0.6734 - val_loss: 0.6970 - val_accuracy: 0.6104\n",
      "Epoch 88/100\n",
      "28/28 [==============================] - 0s 2ms/step - loss: 0.6484 - accuracy: 0.6741 - val_loss: 0.6959 - val_accuracy: 0.6104\n",
      "Epoch 89/100\n",
      "28/28 [==============================] - 0s 2ms/step - loss: 0.6432 - accuracy: 0.6847 - val_loss: 0.6948 - val_accuracy: 0.6104\n",
      "Epoch 90/100\n",
      "28/28 [==============================] - 0s 3ms/step - loss: 0.6476 - accuracy: 0.6667 - val_loss: 0.6936 - val_accuracy: 0.6104\n",
      "Epoch 91/100\n",
      "28/28 [==============================] - 0s 2ms/step - loss: 0.6437 - accuracy: 0.6757 - val_loss: 0.6925 - val_accuracy: 0.6104\n",
      "Epoch 92/100\n",
      "28/28 [==============================] - 0s 2ms/step - loss: 0.6361 - accuracy: 0.6937 - val_loss: 0.6914 - val_accuracy: 0.6104\n",
      "Epoch 93/100\n",
      "28/28 [==============================] - 0s 3ms/step - loss: 0.6622 - accuracy: 0.6577 - val_loss: 0.6902 - val_accuracy: 0.6104\n",
      "Epoch 94/100\n",
      "28/28 [==============================] - 0s 2ms/step - loss: 0.6289 - accuracy: 0.6869 - val_loss: 0.6892 - val_accuracy: 0.6104\n",
      "Epoch 95/100\n",
      "28/28 [==============================] - 0s 2ms/step - loss: 0.6331 - accuracy: 0.7005 - val_loss: 0.6880 - val_accuracy: 0.6104\n",
      "Epoch 96/100\n",
      "28/28 [==============================] - 0s 2ms/step - loss: 0.6380 - accuracy: 0.6689 - val_loss: 0.6870 - val_accuracy: 0.6104\n",
      "Epoch 97/100\n",
      "28/28 [==============================] - 0s 2ms/step - loss: 0.6429 - accuracy: 0.6937 - val_loss: 0.6859 - val_accuracy: 0.6104\n",
      "Epoch 98/100\n",
      "28/28 [==============================] - 0s 2ms/step - loss: 0.6319 - accuracy: 0.6779 - val_loss: 0.6848 - val_accuracy: 0.6104\n",
      "Epoch 99/100\n",
      "28/28 [==============================] - 0s 2ms/step - loss: 0.6412 - accuracy: 0.6959 - val_loss: 0.6838 - val_accuracy: 0.6104\n",
      "Epoch 100/100\n",
      "28/28 [==============================] - 0s 2ms/step - loss: 0.6375 - accuracy: 0.6914 - val_loss: 0.6827 - val_accuracy: 0.6104\n",
      "CPU times: user 7.71 s, sys: 857 ms, total: 8.57 s\n",
      "Wall time: 7.49 s\n"
     ]
    }
   ],
   "source": [
    "%%time\n",
    "\n",
    "# We decalred a function for creating a model.\n",
    "def build_model1_two_hidden_layers():\n",
    "    # Keras model object created from Sequential class. This will be the container that contains all layers.\n",
    "    model = Sequential()\n",
    "\n",
    "    # The model so far is empty. It can be constructed by adding layers and compilation.\n",
    "    # This Keras model with multiple hidden layers.\n",
    "    \n",
    "    # Input Layer with 10 Neurons\n",
    "    model.add(Dense(32, input_shape = (normed_train_data.shape[1],)))    # Input layer => input_shape must be explicitly designated\n",
    "#     model.add(Activation('relu')) # relu or sigmoid.\n",
    "    \n",
    "#     model.add(Dense(128,Activation('relu')))                         # Hidden layer 1 => only output dimension should be designated (output dimension = # of Neurons = 50)\n",
    "    \n",
    "    \n",
    "    \n",
    "    \n",
    "    model.add(Dense(1))                          # Output layer => output dimension = 1 since it is a regression problem\n",
    "    \n",
    "    # Activation: sigmoid, softmax, tanh, relu, LeakyReLU. \n",
    "    #Optimizer: SGD, Adam, RMSProp, etc. # https://www.tensorflow.org/api_docs/python/tf/keras/optimizers\n",
    "    learning_rate = 0.0001\n",
    "    optimizer = optimizers.SGD(learning_rate)\n",
    "    model.compile(loss=tf.keras.losses.BinaryCrossentropy(from_logits=True),\n",
    "                optimizer=optimizer,\n",
    "                metrics=['accuracy']) # for regression problems, mean squared error (MSE) is often employed\n",
    "    return model\n",
    "\n",
    "\n",
    "EPOCHS = 100\n",
    "batch_size = 16 # 6 iteration\n",
    "\n",
    "model = build_model1_two_hidden_layers()\n",
    "print('Here is a summary of this model: ')\n",
    "model.summary()\n",
    "\n",
    "\n",
    "with tf.device('/CPU:0'): # it can be with '/CPU:0'\n",
    "# with tf.device('/GPU:0'): # comment the previous line and uncomment this line to train with a GPU, if available.\n",
    "    history = model.fit(\n",
    "        normed_train_data, \n",
    "        train_labels,\n",
    "        batch_size = batch_size,\n",
    "        epochs=EPOCHS, \n",
    "        verbose=1,\n",
    "        shuffle=True,\n",
    "        steps_per_epoch = int(normed_train_data.shape[0] / batch_size) ,\n",
    "        validation_data = (normed_valid_dataset, valid_labels),   \n",
    "    )\n",
    "\n"
   ]
  },
  {
   "cell_type": "code",
   "execution_count": 27,
   "metadata": {},
   "outputs": [
    {
     "name": "stdout",
     "output_type": "stream",
     "text": [
      "Summary of the results after each epoch: \n"
     ]
    },
    {
     "data": {
      "text/html": [
       "<div>\n",
       "<style scoped>\n",
       "    .dataframe tbody tr th:only-of-type {\n",
       "        vertical-align: middle;\n",
       "    }\n",
       "\n",
       "    .dataframe tbody tr th {\n",
       "        vertical-align: top;\n",
       "    }\n",
       "\n",
       "    .dataframe thead th {\n",
       "        text-align: right;\n",
       "    }\n",
       "</style>\n",
       "<table border=\"1\" class=\"dataframe\">\n",
       "  <thead>\n",
       "    <tr style=\"text-align: right;\">\n",
       "      <th></th>\n",
       "      <th>loss</th>\n",
       "      <th>accuracy</th>\n",
       "      <th>val_loss</th>\n",
       "      <th>val_accuracy</th>\n",
       "      <th>epoch</th>\n",
       "    </tr>\n",
       "  </thead>\n",
       "  <tbody>\n",
       "    <tr>\n",
       "      <th>95</th>\n",
       "      <td>0.637952</td>\n",
       "      <td>0.668919</td>\n",
       "      <td>0.686974</td>\n",
       "      <td>0.61039</td>\n",
       "      <td>95</td>\n",
       "    </tr>\n",
       "    <tr>\n",
       "      <th>96</th>\n",
       "      <td>0.642874</td>\n",
       "      <td>0.693694</td>\n",
       "      <td>0.685902</td>\n",
       "      <td>0.61039</td>\n",
       "      <td>96</td>\n",
       "    </tr>\n",
       "    <tr>\n",
       "      <th>97</th>\n",
       "      <td>0.631949</td>\n",
       "      <td>0.677928</td>\n",
       "      <td>0.684770</td>\n",
       "      <td>0.61039</td>\n",
       "      <td>97</td>\n",
       "    </tr>\n",
       "    <tr>\n",
       "      <th>98</th>\n",
       "      <td>0.641172</td>\n",
       "      <td>0.695946</td>\n",
       "      <td>0.683752</td>\n",
       "      <td>0.61039</td>\n",
       "      <td>98</td>\n",
       "    </tr>\n",
       "    <tr>\n",
       "      <th>99</th>\n",
       "      <td>0.637509</td>\n",
       "      <td>0.691441</td>\n",
       "      <td>0.682689</td>\n",
       "      <td>0.61039</td>\n",
       "      <td>99</td>\n",
       "    </tr>\n",
       "  </tbody>\n",
       "</table>\n",
       "</div>"
      ],
      "text/plain": [
       "        loss  accuracy  val_loss  val_accuracy  epoch\n",
       "95  0.637952  0.668919  0.686974       0.61039     95\n",
       "96  0.642874  0.693694  0.685902       0.61039     96\n",
       "97  0.631949  0.677928  0.684770       0.61039     97\n",
       "98  0.641172  0.695946  0.683752       0.61039     98\n",
       "99  0.637509  0.691441  0.682689       0.61039     99"
      ]
     },
     "execution_count": 27,
     "metadata": {},
     "output_type": "execute_result"
    }
   ],
   "source": [
    "print('Summary of the results after each epoch: ')\n",
    "hist = pd.DataFrame(history.history)\n",
    "hist['epoch'] = history.epoch\n",
    "hist.tail()"
   ]
  },
  {
   "cell_type": "markdown",
   "metadata": {},
   "source": [
    "# See how the training went by plotting the loss/Accuracy across epochs\n"
   ]
  },
  {
   "cell_type": "code",
   "execution_count": 30,
   "metadata": {},
   "outputs": [
    {
     "data": {
      "image/png": "[encoded data removed]",
      "text/plain": [
       "<Figure size 432x288 with 1 Axes>"
      ]
     },
     "metadata": {
      "needs_background": "light"
     },
     "output_type": "display_data"
    }
   ],
   "source": [
    "from matplotlib import pyplot as plt\n",
    "plt.plot(history.history['accuracy'])\n",
    "plt.plot(history.history['val_accuracy'])\n",
    "plt.title('model accuracy')\n",
    "plt.ylabel('accuracy')\n",
    "plt.xlabel('epoch')\n",
    "plt.legend(['Train', 'Cross-Validation'], loc='upper left')\n",
    "plt.show()"
   ]
  },
  {
   "cell_type": "code",
   "execution_count": 31,
   "metadata": {},
   "outputs": [
    {
     "data": {
      "image/png": "[encoded data removed]",
      "text/plain": [
       "<Figure size 432x288 with 1 Axes>"
      ]
     },
     "metadata": {
      "needs_background": "light"
     },
     "output_type": "display_data"
    }
   ],
   "source": [
    "plt.plot(history.history['loss'])\n",
    "plt.plot(history.history['val_loss'])\n",
    "plt.title('Model Loss')\n",
    "plt.ylabel('Loss')\n",
    "plt.xlabel('epoch')\n",
    "plt.legend(['Train', 'Cross-Validation'], loc='upper left')\n",
    "plt.show()"
   ]
  },
  {
   "cell_type": "code",
   "execution_count": 32,
   "metadata": {},
   "outputs": [
    {
     "name": "stdout",
     "output_type": "stream",
     "text": [
      "Train Split: \n",
      "15/15 [==============================] - 0s 1ms/step - loss: 0.6342 - accuracy: 0.6870\n",
      "Accuracy   :  0.69 \n"
     ]
    }
   ],
   "source": [
    "print('Train Split: ')\n",
    "loss, accuracy = model.evaluate(normed_train_data, train_labels, verbose=1)\n",
    "\n",
    "print(\"Accuracy   : {:5.2f} \".format(accuracy))\n"
   ]
  },
  {
   "cell_type": "code",
   "execution_count": 33,
   "metadata": {},
   "outputs": [
    {
     "name": "stdout",
     "output_type": "stream",
     "text": [
      "Evaluation Split: \n",
      "5/5 - 0s - loss: 0.6827 - accuracy: 0.6104\n",
      "Accuracy   :  0.61 \n"
     ]
    }
   ],
   "source": [
    "print('Evaluation Split: ')\n",
    "loss, accuracy =  model.evaluate(normed_valid_dataset, valid_labels, verbose=2)\n",
    "\n",
    "print(\"Accuracy   : {:5.2f} \".format(accuracy))"
   ]
  },
  {
   "cell_type": "code",
   "execution_count": 34,
   "metadata": {},
   "outputs": [
    {
     "name": "stdout",
     "output_type": "stream",
     "text": [
      "Test Split: \n",
      "5/5 - 0s - loss: 0.6733 - accuracy: 0.6883\n",
      "Accuracy   :  0.69 \n"
     ]
    }
   ],
   "source": [
    "print('Test Split: ')\n",
    "loss, accuracy =  model.evaluate(normed_test_data, test_labels, verbose=2)\n",
    "\n",
    "print(\"Accuracy   : {:5.2f} \".format(accuracy))\n"
   ]
  },
  {
   "cell_type": "code",
   "execution_count": null,
   "metadata": {},
   "outputs": [],
   "source": []
  },
  {
   "cell_type": "code",
   "execution_count": 35,
   "metadata": {},
   "outputs": [
    {
     "data": {
      "image/png": "[encoded data removed]",
      "text/plain": [
       "<Figure size 432x288 with 2 Axes>"
      ]
     },
     "metadata": {
      "needs_background": "light"
     },
     "output_type": "display_data"
    }
   ],
   "source": [
    "# import seaborn as sns\n",
    "# import matplotlib.pyplot as plt     \n",
    "from sklearn.metrics import confusion_matrix\n",
    "\n",
    "\n",
    "ax= plt.subplot()\n",
    "predict_results = model.predict(normed_test_data)\n",
    "\n",
    "predict_results = (predict_results > 0.5)\n",
    "\n",
    "cm = confusion_matrix(test_labels, predict_results)\n",
    "\n",
    "sns.heatmap(cm, annot=True, ax = ax); #annot=True to annotate cells\n",
    "\n",
    "# labels, title and ticks\n",
    "ax.set_xlabel('Predicted labels');ax.set_ylabel('True labels'); \n",
    "ax.set_title('Confusion Matrix'); \n",
    "ax.xaxis.set_ticklabels(['Positive', 'Negative']); ax.yaxis.set_ticklabels(['Positive', 'Negative']);\n"
   ]
  },
  {
   "cell_type": "code",
   "execution_count": null,
   "metadata": {},
   "outputs": [],
   "source": []
  },
  {
   "cell_type": "code",
   "execution_count": null,
   "metadata": {},
   "outputs": [],
   "source": []
  },
  {
   "cell_type": "code",
   "execution_count": null,
   "metadata": {},
   "outputs": [],
   "source": []
  }
 ],
 "metadata": {
  "kernelspec": {
   "display_name": "Python 3",
   "language": "python",
   "name": "python3"
  },
  "language_info": {
   "codemirror_mode": {
    "name": "ipython",
    "version": 3
   },
   "file_extension": ".py",
   "mimetype": "text/x-python",
   "name": "python",
   "nbconvert_exporter": "python",
   "pygments_lexer": "ipython3",
   "version": "3.7.7"
  }
 },
 "nbformat": 4,
 "nbformat_minor": 4
}
