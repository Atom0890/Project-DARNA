{
  "cells": [
    {
      "cell_type": "markdown",
      "metadata": {
        "id": "view-in-github",
        "colab_type": "text"
      },
      "source": [
        "<a href=\"https://colab.research.google.com/github/Atom0890/Project-DARNA/blob/main/DARNA_code.ipynb\" target=\"_parent\"><img src=\"https://colab.research.google.com/assets/colab-badge.svg\" alt=\"Open In Colab\"/></a>"
      ]
    },
    {
      "cell_type": "code",
      "execution_count": null,
      "metadata": {
        "colab": {
          "base_uri": "https://localhost:8080/"
        },
        "id": "bkOU5K-pmYC-",
        "outputId": "a7ddca8f-a922-4463-e023-ea699834dcd4"
      },
      "outputs": [
        {
          "output_type": "stream",
          "name": "stdout",
          "text": [
            "Looking in indexes: https://pypi.org/simple, https://us-python.pkg.dev/colab-wheels/public/simple/\n",
            "Requirement already satisfied: stopwordsiso in /usr/local/lib/python3.7/dist-packages (0.6.1)\n"
          ]
        }
      ],
      "source": [
        "!pip install stopwordsiso"
      ]
    },
    {
      "cell_type": "code",
      "execution_count": null,
      "metadata": {
        "colab": {
          "base_uri": "https://localhost:8080/"
        },
        "id": "KuBUV4ZakU3j",
        "outputId": "b27f28bf-9dda-4980-b4ee-994963d40abb"
      },
      "outputs": [
        {
          "output_type": "stream",
          "name": "stderr",
          "text": [
            "[nltk_data] Downloading package punkt to /root/nltk_data...\n",
            "[nltk_data]   Package punkt is already up-to-date!\n",
            "[nltk_data] Downloading package wordnet to /root/nltk_data...\n",
            "[nltk_data]   Package wordnet is already up-to-date!\n",
            "[nltk_data] Downloading package omw-1.4 to /root/nltk_data...\n",
            "[nltk_data]   Package omw-1.4 is already up-to-date!\n",
            "/usr/local/lib/python3.7/dist-packages/ipykernel_launcher.py:15: FutureWarning: The default value of regex will change from True to False in a future version.\n",
            "  from ipykernel import kernelapp as app\n",
            "[nltk_data] Downloading package stopwords to /root/nltk_data...\n",
            "[nltk_data]   Package stopwords is already up-to-date!\n"
          ]
        }
      ],
      "source": [
        "import pandas as pd\n",
        "import re\n",
        "import nltk\n",
        "nltk.download('punkt')\n",
        "import numpy as np\n",
        "from nltk.tokenize import word_tokenize \n",
        "from nltk.stem.wordnet import WordNetLemmatizer\n",
        "lemmatizing = WordNetLemmatizer()\n",
        "nltk.download('wordnet')\n",
        "nltk.download('omw-1.4')\n",
        "\n",
        "path='https://raw.githubusercontent.com/AmeeAyco/DARNA/main/Final_DARNA_Dataset.csv'\n",
        "Dataset=pd.read_csv(path)\n",
        "#remove symbols\n",
        "Dataset['tidy'] = Dataset['Post'].str.replace(\"[^a-zA-Z#]\", \" \")\n",
        "Dataset.head(10)\n",
        "Dataset['tidy']=Dataset['tidy'].astype(str)\n",
        "CLEANR = re.compile('<.*?>|&([a-z0-9]+|#[0-9]{1,6}|#x[0-9a-f]{1,6});')\n",
        "#remove html\n",
        "def cleanhtml(raw_html):\n",
        "  cleantext = re.sub(CLEANR, '', raw_html)\n",
        "  return cleantext\n",
        "Dataset['tidy'] = Dataset['tidy'].apply(cleanhtml)\n",
        "#remove tagalog stopwords\n",
        "import stopwordsiso as stopwords\n",
        "stopwords=stopwords.stopwords(\"tl\")\n",
        "Dataset['tidy'] = Dataset['tidy'].apply(lambda x: \" \".join(x for x in x.split() if x not in stopwords))\n",
        "#remove english stopwords\n",
        "import nltk \n",
        "nltk.download('stopwords')\n",
        "from nltk.corpus import stopwords \n",
        "stop_words = stopwords.words('english') \n",
        "Dataset['tidy'] = Dataset['tidy'].apply(lambda x: \" \".join(x for x in x.split() if x not in stop_words))\n",
        "Dataset['tidy'] = Dataset['tidy'].apply(lambda x: \" \".join(x.lower() for x in x.split())) \n",
        "#expand english contradictions\n",
        "contractions_dict = { 'didn\\'t': 'did not', 'don\\'t': 'do not', \"can't\": \"cannot\", \"can't've\": \"cannot have\", \"'cause\": \"because\", \"could've\": \"could have\", \"couldn't\": \"could not\", \"couldn't've\": \"could not have\", \"didn't\": \"did not\", \"doesn't\": \"does not\", \"don't\": \"do not\", \"hadn't\": \"had not\", \"hadn't've\": \"had not have\", \"hasn't\": \"has not\", \"haven't\": \"have not\", \"he'd\": \"he had / he would\", \"he'd've\": \"he would have\", \"he'll\": \"he shall / he will\", \"he'll've\": \"he shall have / he will have\", \"he's\": \"he has / he is\", \"how'd\": \"how did\", \"how'd'y\": \"how do you\", \"how'll\": \"how will\", \"how's\": \"how has / how is / how does\", \"I'd\": \"I had / I would\", \"I'd've\": \"I would have\", \"I'll\": \"I shall / I will\", \"I'll've\": \"I shall have / I will have\", \"I'm\": \"I am\", \"I've\": \"I have\", \"isn't\": \"is not\", \"it'd\": \"it had / it would\", \"it'd've\": \"it would have\", \"it'll\": \"it shall / it will\", \"it'll've\": \"it shall have / it will have\", \"it's\": \"it has / it is\", \"let's\": \"let us\", \"ma'am\": \"madam\", \"mayn't\": \"may not\", \"might've\": \"might have\", \"mightn't\": \"might not\", \"mightn't've\": \"might not have\", \"must've\": \"must have\", \"mustn't\": \"must not\", \"mustn't've\": \"must not have\", \"needn't\": \"need not\", \"needn't've\": \"need not have\", \"o'clock\": \"of the clock\", \"oughtn't\": \"ought not\", \"oughtn't've\": \"ought not have\", \"shan't\": \"shall not\", \"sha'n't\": \"shall not\", \"shan't've\": \"shall not have\", \"she'd\": \"she had / she would\", \"she'd've\": \"she would have\", \"she'll\": \"she shall / she will\", \"she'll've\": \"she shall have / she will have\", \"she's\": \"she has / she is\", \"should've\": \"should have\", \"shouldn't\": \"should not\", \"shouldn't've\": \"should not have\", \"so've\": \"so have\", \"so's\": \"so as / so is\", \"that'd\": \"that would / that had\", \"that'd've\": \"that would have\", \"that's\": \"that has / that is\", \"there'd\": \"there had / there would\", \"there'd've\": \"there would have\", \"there's\": \"there has / there is\", \"they'd\": \"they had / they would\", \"they'd've\": \"they would have\", \"they'll\": \"they shall / they will\", \"they'll've\": \"they shall have / they will have\", \"they're\": \"they are\", \"they've\": \"they have\", \"to've\": \"to have\", \"wasn't\": \"was not\", \"we'd\": \"we had / we would\", \"we'd've\": \"we would have\", \"we'll\": \"we will\", \"we'll've\": \"we will have\", \"we're\": \"we are\", \"we've\": \"we have\", \"weren't\": \"were not\", \"what'll\": \"what shall / what will\", \"what'll've\": \"what shall have / what will have\", \"what're\": \"what are\", \"what's\": \"what has / what is\", \"what've\": \"what have\", \"when's\": \"when has / when is\", \"when've\": \"when have\", \"where'd\": \"where did\", \"where's\": \"where has / where is\", \"where've\": \"where have\", \"who'll\": \"who shall / who will\", \"who'll've\": \"who shall have / who will have\", \"who's\": \"who has / who is\", \"who've\": \"who have\", \"why's\": \"why has / why is\", \"why've\": \"why have\", \"will've\": \"will have\", \"won't\": \"will not\", \"won't've\": \"will not have\", \"would've\": \"would have\", \"wouldn't\": \"would not\", \"wouldn't've\": \"would not have\", \"y'all\": \"you all\", \"y'all'd\": \"you all would\", \"y'all'd've\": \"you all would have\", \"y'all're\": \"you all are\", \"y'all've\": \"you all have\", \"you'd\": \"you had / you would\", \"you'd've\": \"you would have\", \"you'll\": \"you shall / you will\", \"you'll've\": \"you shall have / you will have\", \"you're\": \"you are\", \"you've\": \"you have\" } \n",
        "contractions_re = re.compile('(%s)' % '|'.join(contractions_dict.keys()))\n",
        "def expand_contractions(s, contractions_dict=contractions_dict): \n",
        "  def replace(match): \n",
        "    return contractions_dict[match.group(0)] \n",
        "  return contractions_re.sub(replace, s)\n",
        "Dataset['tidy'] = Dataset['tidy'].apply(expand_contractions)\n",
        "Dataset['tidy'] = Dataset['tidy'].apply(lambda x: ' '.join([w for w in x.split() if len(w)>3]))\n",
        "\n",
        "#tokenize\n",
        "Dataset['token'] = Dataset['tidy'].apply(lambda x: word_tokenize(x))\n",
        "#lemmatized\n",
        "Dataset['lemmatized'] = Dataset['token'].apply(lambda x: ' '.join([lemmatizing.lemmatize(i) for i in x]))"
      ]
    },
    {
      "cell_type": "code",
      "execution_count": null,
      "metadata": {
        "id": "tAiAiV3llUL0"
      },
      "outputs": [],
      "source": [
        "from tensorflow import keras\n",
        "from tensorflow.keras.preprocessing.text import Tokenizer\n",
        "from tensorflow.keras.preprocessing.sequence import pad_sequences\n",
        "from tensorflow.keras.models import Sequential\n",
        "from tensorflow.keras.layers import LSTM , Dense, Dropout, Embedding, SpatialDropout1D\n",
        "from keras.layers import Bidirectional\n",
        "max_features = 220\n",
        "tokenizer = Tokenizer(num_words = max_features, split = (' ')) \n",
        "tokenizer.fit_on_texts(Dataset['lemmatized'].values)\n",
        "X = tokenizer.texts_to_sequences(Dataset['lemmatized'].values) # making all the tokens into same sizes using padding. \n",
        "X = pad_sequences(X, maxlen = max_features) \n",
        "X.shape\n",
        "Y=Dataset['Risky?']\n",
        "from sklearn.model_selection import train_test_split\n",
        "xtrain,xtest,ytrain,ytest=train_test_split(X,Y,test_size=.3,random_state=42)"
      ]
    },
    {
      "cell_type": "code",
      "execution_count": null,
      "metadata": {
        "id": "-E6QdJ2OVQbp"
      },
      "outputs": [],
      "source": [
        "import matplotlib.pyplot as plt\n",
        "\n",
        "def my_plot(epochs, loss):\n",
        "    plt.plot(epochs, loss)\n",
        "    \n",
        "def train(num_epochs,optimizer,criterion,model):\n",
        "    loss_vals=  []\n",
        "    for epoch in range(num_epochs):\n",
        "        epoch_loss= []\n",
        "        for i, (images, labels) in enumerate(trainloader):\n",
        "            # rest of the code\n",
        "            loss.backward()\n",
        "            epoch_loss.append(loss.item())\n",
        "            # rest of the code\n",
        "        # rest of the code\n",
        "        loss_vals.append(sum(epoch_loss)/len(epoch_loss))\n",
        "        # rest of the code\n",
        "    \n",
        "    # plotting\n",
        "    my_plot(np.linspace(1, num_epochs, num_epochs).astype(int), loss_vals)"
      ]
    },
    {
      "cell_type": "code",
      "execution_count": null,
      "metadata": {
        "id": "ITygZctjlfs0"
      },
      "outputs": [],
      "source": [
        "model = Sequential()\n",
        "model.add(Embedding(max_features, 64, input_length = xtrain.shape[1], trainable=False)) \n",
        "model.add(Bidirectional(LSTM(128, dropout=0.2, recurrent_dropout=0.2)))\n",
        "model.add(Dense(512, activation='relu'))\n",
        "model.add(Dropout(0.50))\n",
        "model.add(Dense(1, activation='sigmoid')) \n",
        "model.compile(optimizer = 'adam', loss = 'binary_crossentropy', metrics = ['accuracy'])"
      ]
    },
    {
      "cell_type": "markdown",
      "metadata": {
        "id": "5HjGhwqhfVx-"
      },
      "source": []
    },
    {
      "cell_type": "code",
      "execution_count": null,
      "metadata": {
        "colab": {
          "base_uri": "https://localhost:8080/"
        },
        "id": "YWR6Cc5wllfT",
        "outputId": "4f75c0a3-5d35-46dc-cca2-550913d76db9"
      },
      "outputs": [
        {
          "output_type": "stream",
          "name": "stdout",
          "text": [
            "Epoch 1/10\n",
            "3/3 [==============================] - 11s 2s/step - loss: 0.6904 - accuracy: 0.5260 - val_loss: 0.6837 - val_accuracy: 0.5333\n",
            "Epoch 2/10\n",
            "3/3 [==============================] - 4s 1s/step - loss: 0.6783 - accuracy: 0.5434 - val_loss: 0.6719 - val_accuracy: 0.5333\n",
            "Epoch 3/10\n",
            "3/3 [==============================] - 4s 1s/step - loss: 0.6639 - accuracy: 0.5376 - val_loss: 0.6513 - val_accuracy: 0.5333\n",
            "Epoch 4/10\n",
            "3/3 [==============================] - 4s 1s/step - loss: 0.6379 - accuracy: 0.5838 - val_loss: 0.6087 - val_accuracy: 0.7333\n",
            "Epoch 5/10\n",
            "3/3 [==============================] - 4s 1s/step - loss: 0.5845 - accuracy: 0.7746 - val_loss: 0.5586 - val_accuracy: 0.7333\n",
            "Epoch 6/10\n",
            "3/3 [==============================] - 4s 1s/step - loss: 0.5220 - accuracy: 0.7861 - val_loss: 0.5219 - val_accuracy: 0.8133\n",
            "Epoch 7/10\n",
            "3/3 [==============================] - 4s 1s/step - loss: 0.4937 - accuracy: 0.7457 - val_loss: 0.4638 - val_accuracy: 0.8133\n",
            "Epoch 8/10\n",
            "3/3 [==============================] - 5s 2s/step - loss: 0.4263 - accuracy: 0.8324 - val_loss: 0.4338 - val_accuracy: 0.8400\n",
            "Epoch 9/10\n",
            "3/3 [==============================] - 4s 1s/step - loss: 0.3872 - accuracy: 0.8613 - val_loss: 0.3830 - val_accuracy: 0.8667\n",
            "Epoch 10/10\n",
            "3/3 [==============================] - 4s 1s/step - loss: 0.3241 - accuracy: 0.8728 - val_loss: 0.3378 - val_accuracy: 0.9067\n"
          ]
        }
      ],
      "source": [
        "history=model.fit(xtrain, ytrain,batch_size=64,epochs = 10, validation_data=(xtest, ytest))"
      ]
    },
    {
      "cell_type": "code",
      "execution_count": null,
      "metadata": {
        "colab": {
          "base_uri": "https://localhost:8080/",
          "height": 530
        },
        "id": "ax4uDmppXVhZ",
        "outputId": "b34a7970-2017-4cc1-a63b-80e68e9e7b63"
      },
      "outputs": [
        {
          "output_type": "stream",
          "name": "stdout",
          "text": [
            "dict_keys(['loss', 'accuracy', 'val_loss', 'val_accuracy'])\n"
          ]
        },
        {
          "output_type": "display_data",
          "data": {
            "text/plain": [
              "<Figure size 432x288 with 1 Axes>"
            ],
            "image/png": "[encoded data removed]"
          },
          "metadata": {
            "needs_background": "light"
          }
        },
        {
          "output_type": "display_data",
          "data": {
            "text/plain": [
              "<Figure size 432x288 with 1 Axes>"
            ],
            "image/png": "[encoded data removed]"
          },
          "metadata": {
            "needs_background": "light"
          }
        }
      ],
      "source": [
        "# Plot Model Loss and Model accuracy # list all data in history \n",
        "print(history.history.keys()) # summarize history for accuracy \n",
        "plt.plot(history.history['accuracy']) \n",
        "plt.plot(history.history['val_accuracy']) # RAISE ERROR \n",
        "plt.title('model accuracy') \n",
        "plt.ylabel('accuracy') \n",
        "plt.xlabel('epoch') \n",
        "plt.legend(['train', 'test'], loc='upper left') \n",
        "plt.show() # summarize history for loss \n",
        "plt.plot(history.history['loss']) \n",
        "plt.plot(history.history['val_loss']) #RAISE ERROR \n",
        "plt.title('model loss') \n",
        "plt.ylabel('loss') \n",
        "plt.xlabel('epoch')\n",
        "plt.legend(['train', 'test'], loc='upper left') \n",
        "plt.show()"
      ]
    },
    {
      "cell_type": "code",
      "execution_count": null,
      "metadata": {
        "colab": {
          "base_uri": "https://localhost:8080/"
        },
        "id": "_aFnRiTUZiEr",
        "outputId": "e60a42b2-48dd-4609-bff8-fa8aa41d5c5a"
      },
      "outputs": [
        {
          "output_type": "stream",
          "name": "stdout",
          "text": [
            "dict_keys(['loss', 'accuracy', 'val_loss', 'val_accuracy'])\n"
          ]
        }
      ],
      "source": [
        "print(history.history.keys())"
      ]
    },
    {
      "cell_type": "code",
      "execution_count": null,
      "metadata": {
        "colab": {
          "base_uri": "https://localhost:8080/"
        },
        "id": "GrA0fAJKHAcf",
        "outputId": "addb1bd5-1e54-494c-99e4-66ee6e9d2962"
      },
      "outputs": [
        {
          "output_type": "stream",
          "name": "stdout",
          "text": [
            "3/3 [==============================] - 0s 122ms/step - loss: 0.3378 - accuracy: 0.9067\n",
            "[0.3377837538719177, 0.9066666960716248]\n"
          ]
        }
      ],
      "source": [
        "print(model.evaluate(xtest, ytest))"
      ]
    }
  ],
  "metadata": {
    "colab": {
      "collapsed_sections": [],
      "provenance": [],
      "include_colab_link": true
    },
    "kernelspec": {
      "display_name": "Python 3",
      "name": "python3"
    },
    "language_info": {
      "name": "python"
    }
  },
  "nbformat": 4,
  "nbformat_minor": 0
}