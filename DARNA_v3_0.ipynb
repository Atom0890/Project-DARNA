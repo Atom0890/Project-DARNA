{
  "nbformat": 4,
  "nbformat_minor": 0,
  "metadata": {
    "colab": {
      "provenance": [],
      "collapsed_sections": []
    },
    "kernelspec": {
      "name": "python3",
      "display_name": "Python 3"
    },
    "language_info": {
      "name": "python"
    }
  },
  "cells": [
    {
      "cell_type": "markdown",
      "source": [
        "---\n",
        "## Project DARNA: **D**etection of **A**nomaly in OFW **R**ecruitment Posts thru Recurrent **N**eur**A**l Network\n",
        "----\n",
        "###***Capstone Completion Project Submitted by Christian D. Laurio***"
      ],
      "metadata": {
        "id": "kYC7_o-ELJjc"
      }
    },
    {
      "cell_type": "markdown",
      "source": [
        "## 1. Import packages"
      ],
      "metadata": {
        "id": "kgSMsP2SLMIR"
      }
    },
    {
      "cell_type": "code",
      "source": [
        "!pip install stopwordsiso"
      ],
      "metadata": {
        "colab": {
          "base_uri": "https://localhost:8080/"
        },
        "id": "QJORKwt5Trec",
        "outputId": "31d45e2e-6a48-481d-fcde-8d45846affd4"
      },
      "execution_count": null,
      "outputs": [
        {
          "output_type": "stream",
          "name": "stdout",
          "text": [
            "Looking in indexes: https://pypi.org/simple, https://us-python.pkg.dev/colab-wheels/public/simple/\n",
            "Collecting stopwordsiso\n",
            "  Downloading stopwordsiso-0.6.1-py3-none-any.whl (73 kB)\n",
            "\u001b[K     |████████████████████████████████| 73 kB 1.4 MB/s \n",
            "\u001b[?25hInstalling collected packages: stopwordsiso\n",
            "Successfully installed stopwordsiso-0.6.1\n"
          ]
        }
      ]
    },
    {
      "cell_type": "code",
      "execution_count": null,
      "metadata": {
        "id": "KaO1oDeFK-sF"
      },
      "outputs": [],
      "source": [
        "%matplotlib inline\n",
        "import matplotlib.pyplot as plt\n",
        "import tensorflow as tf\n",
        "import numpy as np\n",
        "import pandas as pd\n",
        "import re\n",
        "from scipy.spatial.distance import cdist"
      ]
    },
    {
      "cell_type": "markdown",
      "source": [
        "Import from Keras"
      ],
      "metadata": {
        "id": "Q3avJ1DVLvDg"
      }
    },
    {
      "cell_type": "code",
      "source": [
        "from tensorflow.keras.models import Sequential\n",
        "from tensorflow.keras.layers import Dense, GRU, Embedding\n",
        "from tensorflow.keras.optimizers import Adam\n",
        "from tensorflow.keras.preprocessing.text import Tokenizer\n",
        "from tensorflow.keras.preprocessing.sequence import pad_sequences\n",
        "from sklearn.model_selection import train_test_split"
      ],
      "metadata": {
        "id": "eHFN2PYYLrug"
      },
      "execution_count": null,
      "outputs": []
    },
    {
      "cell_type": "code",
      "source": [
        "tf.__version__"
      ],
      "metadata": {
        "colab": {
          "base_uri": "https://localhost:8080/",
          "height": 35
        },
        "id": "w3nlBk7nn5y2",
        "outputId": "28734a85-0e10-43b5-ef6e-855ed573415b"
      },
      "execution_count": null,
      "outputs": [
        {
          "output_type": "execute_result",
          "data": {
            "text/plain": [
              "'2.9.2'"
            ],
            "application/vnd.google.colaboratory.intrinsic+json": {
              "type": "string"
            }
          },
          "metadata": {},
          "execution_count": 4
        }
      ]
    },
    {
      "cell_type": "code",
      "source": [
        "tf.keras.__version__"
      ],
      "metadata": {
        "colab": {
          "base_uri": "https://localhost:8080/",
          "height": 35
        },
        "id": "YUvosFA8n_eh",
        "outputId": "c84f4053-4764-443e-8bcc-b24a217eda4f"
      },
      "execution_count": null,
      "outputs": [
        {
          "output_type": "execute_result",
          "data": {
            "text/plain": [
              "'2.9.0'"
            ],
            "application/vnd.google.colaboratory.intrinsic+json": {
              "type": "string"
            }
          },
          "metadata": {},
          "execution_count": 5
        }
      ]
    },
    {
      "cell_type": "markdown",
      "source": [
        "## 2. Load dataset"
      ],
      "metadata": {
        "id": "y1bVBL20L0t1"
      }
    },
    {
      "cell_type": "code",
      "source": [
        "path='https://raw.githubusercontent.com/Atom0890/Project-DARNA/main/Final_DARNA_Dataset.csv'\n",
        "df=pd.read_csv(path)"
      ],
      "metadata": {
        "id": "jgOojfjJLxyh"
      },
      "execution_count": null,
      "outputs": []
    },
    {
      "cell_type": "code",
      "source": [
        "df.info()"
      ],
      "metadata": {
        "colab": {
          "base_uri": "https://localhost:8080/"
        },
        "id": "DExytHDVSfvh",
        "outputId": "ed0b9195-e39c-4848-e581-91cedf932ca9"
      },
      "execution_count": null,
      "outputs": [
        {
          "output_type": "stream",
          "name": "stdout",
          "text": [
            "<class 'pandas.core.frame.DataFrame'>\n",
            "RangeIndex: 248 entries, 0 to 247\n",
            "Data columns (total 2 columns):\n",
            " #   Column  Non-Null Count  Dtype \n",
            "---  ------  --------------  ----- \n",
            " 0   Post    248 non-null    object\n",
            " 1   Risky?  248 non-null    int64 \n",
            "dtypes: int64(1), object(1)\n",
            "memory usage: 4.0+ KB\n"
          ]
        }
      ]
    },
    {
      "cell_type": "code",
      "source": [
        "df.head(10)"
      ],
      "metadata": {
        "colab": {
          "base_uri": "https://localhost:8080/",
          "height": 363
        },
        "id": "cXMPJjS4SqFd",
        "outputId": "2ce2e9e7-47d0-4692-de74-ede4a6d1bb19"
      },
      "execution_count": null,
      "outputs": [
        {
          "output_type": "execute_result",
          "data": {
            "text/plain": [
              "                                                Post  Risky?\n",
              "0  Urgent!!!!!!\\nWe’re looking for 2 caregiver st...       1\n",
              "1  *Looking for Passport Holder bound to Singapor...       1\n",
              "2  URGENT - URGENT!!!\\nBARTENDER\\nImmediate Joini...       1\n",
              "3  ## **Job Opportunity in Australia**\\n\\nWe are ...       1\n",
              "4  Sino po walang pang gastos dito na gustong mag...       1\n",
              "5  urgently hiring!!\\ndomestic helper \\nbound to ...       1\n",
              "6  I NEED MORE MORE  FAMILY LADY DRIVER APPLICANT...       1\n",
              "7  PTPA. Thanks\\n\\nPre-Opening Hotel Staff Urgent...       1\n",
              "8  I NEED MORE MORE  FAMILY LADY DRIVER APPLICANT...       1\n",
              "9  Urgent Hiring Waitress 5'2 in Height 21to32yrs...       1"
            ],
            "text/html": [
              "\n",
              "  <div id=\"df-2db6d82b-4b58-4271-82b2-161c71f8883d\">\n",
              "    <div class=\"colab-df-container\">\n",
              "      <div>\n",
              "<style scoped>\n",
              "    .dataframe tbody tr th:only-of-type {\n",
              "        vertical-align: middle;\n",
              "    }\n",
              "\n",
              "    .dataframe tbody tr th {\n",
              "        vertical-align: top;\n",
              "    }\n",
              "\n",
              "    .dataframe thead th {\n",
              "        text-align: right;\n",
              "    }\n",
              "</style>\n",
              "<table border=\"1\" class=\"dataframe\">\n",
              "  <thead>\n",
              "    <tr style=\"text-align: right;\">\n",
              "      <th></th>\n",
              "      <th>Post</th>\n",
              "      <th>Risky?</th>\n",
              "    </tr>\n",
              "  </thead>\n",
              "  <tbody>\n",
              "    <tr>\n",
              "      <th>0</th>\n",
              "      <td>Urgent!!!!!!\\nWe’re looking for 2 caregiver st...</td>\n",
              "      <td>1</td>\n",
              "    </tr>\n",
              "    <tr>\n",
              "      <th>1</th>\n",
              "      <td>*Looking for Passport Holder bound to Singapor...</td>\n",
              "      <td>1</td>\n",
              "    </tr>\n",
              "    <tr>\n",
              "      <th>2</th>\n",
              "      <td>URGENT - URGENT!!!\\nBARTENDER\\nImmediate Joini...</td>\n",
              "      <td>1</td>\n",
              "    </tr>\n",
              "    <tr>\n",
              "      <th>3</th>\n",
              "      <td>## **Job Opportunity in Australia**\\n\\nWe are ...</td>\n",
              "      <td>1</td>\n",
              "    </tr>\n",
              "    <tr>\n",
              "      <th>4</th>\n",
              "      <td>Sino po walang pang gastos dito na gustong mag...</td>\n",
              "      <td>1</td>\n",
              "    </tr>\n",
              "    <tr>\n",
              "      <th>5</th>\n",
              "      <td>urgently hiring!!\\ndomestic helper \\nbound to ...</td>\n",
              "      <td>1</td>\n",
              "    </tr>\n",
              "    <tr>\n",
              "      <th>6</th>\n",
              "      <td>I NEED MORE MORE  FAMILY LADY DRIVER APPLICANT...</td>\n",
              "      <td>1</td>\n",
              "    </tr>\n",
              "    <tr>\n",
              "      <th>7</th>\n",
              "      <td>PTPA. Thanks\\n\\nPre-Opening Hotel Staff Urgent...</td>\n",
              "      <td>1</td>\n",
              "    </tr>\n",
              "    <tr>\n",
              "      <th>8</th>\n",
              "      <td>I NEED MORE MORE  FAMILY LADY DRIVER APPLICANT...</td>\n",
              "      <td>1</td>\n",
              "    </tr>\n",
              "    <tr>\n",
              "      <th>9</th>\n",
              "      <td>Urgent Hiring Waitress 5'2 in Height 21to32yrs...</td>\n",
              "      <td>1</td>\n",
              "    </tr>\n",
              "  </tbody>\n",
              "</table>\n",
              "</div>\n",
              "      <button class=\"colab-df-convert\" onclick=\"convertToInteractive('df-2db6d82b-4b58-4271-82b2-161c71f8883d')\"\n",
              "              title=\"Convert this dataframe to an interactive table.\"\n",
              "              style=\"display:none;\">\n",
              "        \n",
              "  <svg xmlns=\"http://www.w3.org/2000/svg\" height=\"24px\"viewBox=\"0 0 24 24\"\n",
              "       width=\"24px\">\n",
              "    <path d=\"M0 0h24v24H0V0z\" fill=\"none\"/>\n",
              "    <path d=\"M18.56 5.44l.94 2.06.94-2.06 2.06-.94-2.06-.94-.94-2.06-.94 2.06-2.06.94zm-11 1L8.5 8.5l.94-2.06 2.06-.94-2.06-.94L8.5 2.5l-.94 2.06-2.06.94zm10 10l.94 2.06.94-2.06 2.06-.94-2.06-.94-.94-2.06-.94 2.06-2.06.94z\"/><path d=\"M17.41 7.96l-1.37-1.37c-.4-.4-.92-.59-1.43-.59-.52 0-1.04.2-1.43.59L10.3 9.45l-7.72 7.72c-.78.78-.78 2.05 0 2.83L4 21.41c.39.39.9.59 1.41.59.51 0 1.02-.2 1.41-.59l7.78-7.78 2.81-2.81c.8-.78.8-2.07 0-2.86zM5.41 20L4 18.59l7.72-7.72 1.47 1.35L5.41 20z\"/>\n",
              "  </svg>\n",
              "      </button>\n",
              "      \n",
              "  <style>\n",
              "    .colab-df-container {\n",
              "      display:flex;\n",
              "      flex-wrap:wrap;\n",
              "      gap: 12px;\n",
              "    }\n",
              "\n",
              "    .colab-df-convert {\n",
              "      background-color: #E8F0FE;\n",
              "      border: none;\n",
              "      border-radius: 50%;\n",
              "      cursor: pointer;\n",
              "      display: none;\n",
              "      fill: #1967D2;\n",
              "      height: 32px;\n",
              "      padding: 0 0 0 0;\n",
              "      width: 32px;\n",
              "    }\n",
              "\n",
              "    .colab-df-convert:hover {\n",
              "      background-color: #E2EBFA;\n",
              "      box-shadow: 0px 1px 2px rgba(60, 64, 67, 0.3), 0px 1px 3px 1px rgba(60, 64, 67, 0.15);\n",
              "      fill: #174EA6;\n",
              "    }\n",
              "\n",
              "    [theme=dark] .colab-df-convert {\n",
              "      background-color: #3B4455;\n",
              "      fill: #D2E3FC;\n",
              "    }\n",
              "\n",
              "    [theme=dark] .colab-df-convert:hover {\n",
              "      background-color: #434B5C;\n",
              "      box-shadow: 0px 1px 3px 1px rgba(0, 0, 0, 0.15);\n",
              "      filter: drop-shadow(0px 1px 2px rgba(0, 0, 0, 0.3));\n",
              "      fill: #FFFFFF;\n",
              "    }\n",
              "  </style>\n",
              "\n",
              "      <script>\n",
              "        const buttonEl =\n",
              "          document.querySelector('#df-2db6d82b-4b58-4271-82b2-161c71f8883d button.colab-df-convert');\n",
              "        buttonEl.style.display =\n",
              "          google.colab.kernel.accessAllowed ? 'block' : 'none';\n",
              "\n",
              "        async function convertToInteractive(key) {\n",
              "          const element = document.querySelector('#df-2db6d82b-4b58-4271-82b2-161c71f8883d');\n",
              "          const dataTable =\n",
              "            await google.colab.kernel.invokeFunction('convertToInteractive',\n",
              "                                                     [key], {});\n",
              "          if (!dataTable) return;\n",
              "\n",
              "          const docLinkHtml = 'Like what you see? Visit the ' +\n",
              "            '<a target=\"_blank\" href=https://colab.research.google.com/notebooks/data_table.ipynb>data table notebook</a>'\n",
              "            + ' to learn more about interactive tables.';\n",
              "          element.innerHTML = '';\n",
              "          dataTable['output_type'] = 'display_data';\n",
              "          await google.colab.output.renderOutput(dataTable, element);\n",
              "          const docLink = document.createElement('div');\n",
              "          docLink.innerHTML = docLinkHtml;\n",
              "          element.appendChild(docLink);\n",
              "        }\n",
              "      </script>\n",
              "    </div>\n",
              "  </div>\n",
              "  "
            ]
          },
          "metadata": {},
          "execution_count": 8
        }
      ]
    },
    {
      "cell_type": "markdown",
      "source": [
        "## 3. Data Cleaning: Remove the symbols, html tags, Tagalog stopwords, English stopwords"
      ],
      "metadata": {
        "id": "5zYNg2deS2v1"
      }
    },
    {
      "cell_type": "code",
      "source": [
        "#Remove symbols\n",
        "df['tidy'] = df['Post'].str.replace(\"[^a-zA-Z#]\", \" \")\n",
        "df.head(10)\n",
        "df['tidy']=df['tidy'].astype(str)\n",
        "CLEANR = re.compile('<.*?>|&([a-z0-9]+|#[0-9]{1,6}|#x[0-9a-f]{1,6});')"
      ],
      "metadata": {
        "colab": {
          "base_uri": "https://localhost:8080/"
        },
        "id": "hF3UoQlSSwte",
        "outputId": "fab4608e-d5ae-4cac-c59a-37265e3bb46a"
      },
      "execution_count": null,
      "outputs": [
        {
          "output_type": "stream",
          "name": "stderr",
          "text": [
            "/usr/local/lib/python3.7/dist-packages/ipykernel_launcher.py:2: FutureWarning: The default value of regex will change from True to False in a future version.\n",
            "  \n"
          ]
        }
      ]
    },
    {
      "cell_type": "code",
      "source": [
        "#Remove html tags\n",
        "def cleanhtml(raw_html):\n",
        "  cleantext = re.sub(CLEANR, '', raw_html)\n",
        "  return cleantext\n",
        "df['tidy'] = df['tidy'].apply(cleanhtml)"
      ],
      "metadata": {
        "id": "a2lWapWETQzd"
      },
      "execution_count": null,
      "outputs": []
    },
    {
      "cell_type": "code",
      "source": [
        "#Remove Tagalog stopwords\n",
        "import stopwordsiso as stopwords\n",
        "stopwords=stopwords.stopwords(\"tl\")\n",
        "df['tidy'] = df['tidy'].apply(lambda x: \" \".join(x for x in x.split() if x not in stopwords))"
      ],
      "metadata": {
        "id": "WKI5bMM-Tbg0"
      },
      "execution_count": null,
      "outputs": []
    },
    {
      "cell_type": "code",
      "source": [
        "#Remove English stopwords\n",
        "import nltk \n",
        "nltk.download('stopwords')\n",
        "from nltk.corpus import stopwords \n",
        "stop_words = stopwords.words('english') \n",
        "df['tidy'] = df['tidy'].apply(lambda x: \" \".join(x for x in x.split() if x not in stop_words))\n",
        "df['tidy'] = df['tidy'].apply(lambda x: \" \".join(x.lower() for x in x.split()))"
      ],
      "metadata": {
        "colab": {
          "base_uri": "https://localhost:8080/"
        },
        "id": "xkx8WO6QTxiB",
        "outputId": "0f63823d-0c51-461f-89f0-5079763be2b5"
      },
      "execution_count": null,
      "outputs": [
        {
          "output_type": "stream",
          "name": "stderr",
          "text": [
            "[nltk_data] Downloading package stopwords to /root/nltk_data...\n",
            "[nltk_data]   Unzipping corpora/stopwords.zip.\n"
          ]
        }
      ]
    },
    {
      "cell_type": "code",
      "source": [
        "#Expand english contradictions\n",
        "contractions_dict = { 'didn\\'t': 'did not', 'don\\'t': 'do not', \"can't\": \"cannot\", \"can't've\": \"cannot have\", \"'cause\": \"because\", \"could've\": \"could have\", \"couldn't\": \"could not\", \"couldn't've\": \"could not have\", \"didn't\": \"did not\", \"doesn't\": \"does not\", \"don't\": \"do not\", \"hadn't\": \"had not\", \"hadn't've\": \"had not have\", \"hasn't\": \"has not\", \"haven't\": \"have not\", \"he'd\": \"he had / he would\", \"he'd've\": \"he would have\", \"he'll\": \"he shall / he will\", \"he'll've\": \"he shall have / he will have\", \"he's\": \"he has / he is\", \"how'd\": \"how did\", \"how'd'y\": \"how do you\", \"how'll\": \"how will\", \"how's\": \"how has / how is / how does\", \"I'd\": \"I had / I would\", \"I'd've\": \"I would have\", \"I'll\": \"I shall / I will\", \"I'll've\": \"I shall have / I will have\", \"I'm\": \"I am\", \"I've\": \"I have\", \"isn't\": \"is not\", \"it'd\": \"it had / it would\", \"it'd've\": \"it would have\", \"it'll\": \"it shall / it will\", \"it'll've\": \"it shall have / it will have\", \"it's\": \"it has / it is\", \"let's\": \"let us\", \"ma'am\": \"madam\", \"mayn't\": \"may not\", \"might've\": \"might have\", \"mightn't\": \"might not\", \"mightn't've\": \"might not have\", \"must've\": \"must have\", \"mustn't\": \"must not\", \"mustn't've\": \"must not have\", \"needn't\": \"need not\", \"needn't've\": \"need not have\", \"o'clock\": \"of the clock\", \"oughtn't\": \"ought not\", \"oughtn't've\": \"ought not have\", \"shan't\": \"shall not\", \"sha'n't\": \"shall not\", \"shan't've\": \"shall not have\", \"she'd\": \"she had / she would\", \"she'd've\": \"she would have\", \"she'll\": \"she shall / she will\", \"she'll've\": \"she shall have / she will have\", \"she's\": \"she has / she is\", \"should've\": \"should have\", \"shouldn't\": \"should not\", \"shouldn't've\": \"should not have\", \"so've\": \"so have\", \"so's\": \"so as / so is\", \"that'd\": \"that would / that had\", \"that'd've\": \"that would have\", \"that's\": \"that has / that is\", \"there'd\": \"there had / there would\", \"there'd've\": \"there would have\", \"there's\": \"there has / there is\", \"they'd\": \"they had / they would\", \"they'd've\": \"they would have\", \"they'll\": \"they shall / they will\", \"they'll've\": \"they shall have / they will have\", \"they're\": \"they are\", \"they've\": \"they have\", \"to've\": \"to have\", \"wasn't\": \"was not\", \"we'd\": \"we had / we would\", \"we'd've\": \"we would have\", \"we'll\": \"we will\", \"we'll've\": \"we will have\", \"we're\": \"we are\", \"we've\": \"we have\", \"weren't\": \"were not\", \"what'll\": \"what shall / what will\", \"what'll've\": \"what shall have / what will have\", \"what're\": \"what are\", \"what's\": \"what has / what is\", \"what've\": \"what have\", \"when's\": \"when has / when is\", \"when've\": \"when have\", \"where'd\": \"where did\", \"where's\": \"where has / where is\", \"where've\": \"where have\", \"who'll\": \"who shall / who will\", \"who'll've\": \"who shall have / who will have\", \"who's\": \"who has / who is\", \"who've\": \"who have\", \"why's\": \"why has / why is\", \"why've\": \"why have\", \"will've\": \"will have\", \"won't\": \"will not\", \"won't've\": \"will not have\", \"would've\": \"would have\", \"wouldn't\": \"would not\", \"wouldn't've\": \"would not have\", \"y'all\": \"you all\", \"y'all'd\": \"you all would\", \"y'all'd've\": \"you all would have\", \"y'all're\": \"you all are\", \"y'all've\": \"you all have\", \"you'd\": \"you had / you would\", \"you'd've\": \"you would have\", \"you'll\": \"you shall / you will\", \"you'll've\": \"you shall have / you will have\", \"you're\": \"you are\", \"you've\": \"you have\" } \n",
        "contractions_re = re.compile('(%s)' % '|'.join(contractions_dict.keys()))\n",
        "def expand_contractions(s, contractions_dict=contractions_dict): \n",
        "  def replace(match): \n",
        "    return contractions_dict[match.group(0)] \n",
        "  return contractions_re.sub(replace, s)\n",
        "df['tidy'] = df['tidy'].apply(expand_contractions)\n",
        "df['tidy'] = df['tidy'].apply(lambda x: ' '.join([w for w in x.split() if len(w)>3]))"
      ],
      "metadata": {
        "id": "AEoDX6jIUBY1"
      },
      "execution_count": null,
      "outputs": []
    },
    {
      "cell_type": "code",
      "source": [
        "df.head()"
      ],
      "metadata": {
        "colab": {
          "base_uri": "https://localhost:8080/",
          "height": 206
        },
        "id": "uA-qGM8pUN1w",
        "outputId": "de315255-46b2-400b-9ac9-0cbeb9037673"
      },
      "execution_count": null,
      "outputs": [
        {
          "output_type": "execute_result",
          "data": {
            "text/plain": [
              "                                                Post  Risky?  \\\n",
              "0  Urgent!!!!!!\\nWe’re looking for 2 caregiver st...       1   \n",
              "1  *Looking for Passport Holder bound to Singapor...       1   \n",
              "2  URGENT - URGENT!!!\\nBARTENDER\\nImmediate Joini...       1   \n",
              "3  ## **Job Opportunity in Australia**\\n\\nWe are ...       1   \n",
              "4  Sino po walang pang gastos dito na gustong mag...       1   \n",
              "\n",
              "                                                tidy  \n",
              "0  urgent looking caregiver stay clovis californi...  \n",
              "1  looking passport holder bound singapore decent...  \n",
              "2  urgent urgent bartender immediate joining loca...  \n",
              "3  opportunity australia market leader bigger sca...  \n",
              "4  sino pang gastos gustong abroad later bound si...  "
            ],
            "text/html": [
              "\n",
              "  <div id=\"df-d7699c4c-3ddb-46ad-aa14-d48dd33964f1\">\n",
              "    <div class=\"colab-df-container\">\n",
              "      <div>\n",
              "<style scoped>\n",
              "    .dataframe tbody tr th:only-of-type {\n",
              "        vertical-align: middle;\n",
              "    }\n",
              "\n",
              "    .dataframe tbody tr th {\n",
              "        vertical-align: top;\n",
              "    }\n",
              "\n",
              "    .dataframe thead th {\n",
              "        text-align: right;\n",
              "    }\n",
              "</style>\n",
              "<table border=\"1\" class=\"dataframe\">\n",
              "  <thead>\n",
              "    <tr style=\"text-align: right;\">\n",
              "      <th></th>\n",
              "      <th>Post</th>\n",
              "      <th>Risky?</th>\n",
              "      <th>tidy</th>\n",
              "    </tr>\n",
              "  </thead>\n",
              "  <tbody>\n",
              "    <tr>\n",
              "      <th>0</th>\n",
              "      <td>Urgent!!!!!!\\nWe’re looking for 2 caregiver st...</td>\n",
              "      <td>1</td>\n",
              "      <td>urgent looking caregiver stay clovis californi...</td>\n",
              "    </tr>\n",
              "    <tr>\n",
              "      <th>1</th>\n",
              "      <td>*Looking for Passport Holder bound to Singapor...</td>\n",
              "      <td>1</td>\n",
              "      <td>looking passport holder bound singapore decent...</td>\n",
              "    </tr>\n",
              "    <tr>\n",
              "      <th>2</th>\n",
              "      <td>URGENT - URGENT!!!\\nBARTENDER\\nImmediate Joini...</td>\n",
              "      <td>1</td>\n",
              "      <td>urgent urgent bartender immediate joining loca...</td>\n",
              "    </tr>\n",
              "    <tr>\n",
              "      <th>3</th>\n",
              "      <td>## **Job Opportunity in Australia**\\n\\nWe are ...</td>\n",
              "      <td>1</td>\n",
              "      <td>opportunity australia market leader bigger sca...</td>\n",
              "    </tr>\n",
              "    <tr>\n",
              "      <th>4</th>\n",
              "      <td>Sino po walang pang gastos dito na gustong mag...</td>\n",
              "      <td>1</td>\n",
              "      <td>sino pang gastos gustong abroad later bound si...</td>\n",
              "    </tr>\n",
              "  </tbody>\n",
              "</table>\n",
              "</div>\n",
              "      <button class=\"colab-df-convert\" onclick=\"convertToInteractive('df-d7699c4c-3ddb-46ad-aa14-d48dd33964f1')\"\n",
              "              title=\"Convert this dataframe to an interactive table.\"\n",
              "              style=\"display:none;\">\n",
              "        \n",
              "  <svg xmlns=\"http://www.w3.org/2000/svg\" height=\"24px\"viewBox=\"0 0 24 24\"\n",
              "       width=\"24px\">\n",
              "    <path d=\"M0 0h24v24H0V0z\" fill=\"none\"/>\n",
              "    <path d=\"M18.56 5.44l.94 2.06.94-2.06 2.06-.94-2.06-.94-.94-2.06-.94 2.06-2.06.94zm-11 1L8.5 8.5l.94-2.06 2.06-.94-2.06-.94L8.5 2.5l-.94 2.06-2.06.94zm10 10l.94 2.06.94-2.06 2.06-.94-2.06-.94-.94-2.06-.94 2.06-2.06.94z\"/><path d=\"M17.41 7.96l-1.37-1.37c-.4-.4-.92-.59-1.43-.59-.52 0-1.04.2-1.43.59L10.3 9.45l-7.72 7.72c-.78.78-.78 2.05 0 2.83L4 21.41c.39.39.9.59 1.41.59.51 0 1.02-.2 1.41-.59l7.78-7.78 2.81-2.81c.8-.78.8-2.07 0-2.86zM5.41 20L4 18.59l7.72-7.72 1.47 1.35L5.41 20z\"/>\n",
              "  </svg>\n",
              "      </button>\n",
              "      \n",
              "  <style>\n",
              "    .colab-df-container {\n",
              "      display:flex;\n",
              "      flex-wrap:wrap;\n",
              "      gap: 12px;\n",
              "    }\n",
              "\n",
              "    .colab-df-convert {\n",
              "      background-color: #E8F0FE;\n",
              "      border: none;\n",
              "      border-radius: 50%;\n",
              "      cursor: pointer;\n",
              "      display: none;\n",
              "      fill: #1967D2;\n",
              "      height: 32px;\n",
              "      padding: 0 0 0 0;\n",
              "      width: 32px;\n",
              "    }\n",
              "\n",
              "    .colab-df-convert:hover {\n",
              "      background-color: #E2EBFA;\n",
              "      box-shadow: 0px 1px 2px rgba(60, 64, 67, 0.3), 0px 1px 3px 1px rgba(60, 64, 67, 0.15);\n",
              "      fill: #174EA6;\n",
              "    }\n",
              "\n",
              "    [theme=dark] .colab-df-convert {\n",
              "      background-color: #3B4455;\n",
              "      fill: #D2E3FC;\n",
              "    }\n",
              "\n",
              "    [theme=dark] .colab-df-convert:hover {\n",
              "      background-color: #434B5C;\n",
              "      box-shadow: 0px 1px 3px 1px rgba(0, 0, 0, 0.15);\n",
              "      filter: drop-shadow(0px 1px 2px rgba(0, 0, 0, 0.3));\n",
              "      fill: #FFFFFF;\n",
              "    }\n",
              "  </style>\n",
              "\n",
              "      <script>\n",
              "        const buttonEl =\n",
              "          document.querySelector('#df-d7699c4c-3ddb-46ad-aa14-d48dd33964f1 button.colab-df-convert');\n",
              "        buttonEl.style.display =\n",
              "          google.colab.kernel.accessAllowed ? 'block' : 'none';\n",
              "\n",
              "        async function convertToInteractive(key) {\n",
              "          const element = document.querySelector('#df-d7699c4c-3ddb-46ad-aa14-d48dd33964f1');\n",
              "          const dataTable =\n",
              "            await google.colab.kernel.invokeFunction('convertToInteractive',\n",
              "                                                     [key], {});\n",
              "          if (!dataTable) return;\n",
              "\n",
              "          const docLinkHtml = 'Like what you see? Visit the ' +\n",
              "            '<a target=\"_blank\" href=https://colab.research.google.com/notebooks/data_table.ipynb>data table notebook</a>'\n",
              "            + ' to learn more about interactive tables.';\n",
              "          element.innerHTML = '';\n",
              "          dataTable['output_type'] = 'display_data';\n",
              "          await google.colab.output.renderOutput(dataTable, element);\n",
              "          const docLink = document.createElement('div');\n",
              "          docLink.innerHTML = docLinkHtml;\n",
              "          element.appendChild(docLink);\n",
              "        }\n",
              "      </script>\n",
              "    </div>\n",
              "  </div>\n",
              "  "
            ]
          },
          "metadata": {},
          "execution_count": 14
        }
      ]
    },
    {
      "cell_type": "code",
      "source": [
        "train_text, val_text, train_label, val_label = \\\n",
        "    train_test_split(df[\"tidy\"].tolist(),\n",
        "                     df[\"Risky?\"].tolist(),\n",
        "                     test_size=0.50,\n",
        "                     shuffle=True,\n",
        "                     random_state=324)\n",
        "# Convert to numpy arrays.\n",
        "train_text = np.array(train_text)\n",
        "val_text = np.array(val_text)"
      ],
      "metadata": {
        "id": "nL_sSaGmMVXb"
      },
      "execution_count": null,
      "outputs": []
    },
    {
      "cell_type": "code",
      "source": [
        "print(\"Train-set size: \", len(train_text))\n",
        "print(\"Validation-set size:  \", len(val_text))"
      ],
      "metadata": {
        "colab": {
          "base_uri": "https://localhost:8080/"
        },
        "id": "aIQISKahM_P4",
        "outputId": "8ffdf511-4649-472a-e93b-f5a58e16a2d0"
      },
      "execution_count": null,
      "outputs": [
        {
          "output_type": "stream",
          "name": "stdout",
          "text": [
            "Train-set size:  124\n",
            "Validation-set size:   124\n"
          ]
        }
      ]
    },
    {
      "cell_type": "code",
      "source": [
        "train_text[50]"
      ],
      "metadata": {
        "colab": {
          "base_uri": "https://localhost:8080/",
          "height": 35
        },
        "id": "SGlXX2C5PDO0",
        "outputId": "8db92065-ea84-4747-cd05-4abbf1280509"
      },
      "execution_count": null,
      "outputs": [
        {
          "output_type": "execute_result",
          "data": {
            "text/plain": [
              "'urgent urgent bartender immediate joining local hire experience transferable attractive salary benefits send whatsapp'"
            ],
            "application/vnd.google.colaboratory.intrinsic+json": {
              "type": "string"
            }
          },
          "metadata": {},
          "execution_count": 17
        }
      ]
    },
    {
      "cell_type": "code",
      "source": [
        "train_label[50]"
      ],
      "metadata": {
        "colab": {
          "base_uri": "https://localhost:8080/"
        },
        "id": "lTaGTaJmPRDd",
        "outputId": "44b9cf31-5703-4993-d81c-4032e938dd0f"
      },
      "execution_count": null,
      "outputs": [
        {
          "output_type": "execute_result",
          "data": {
            "text/plain": [
              "1"
            ]
          },
          "metadata": {},
          "execution_count": 18
        }
      ]
    },
    {
      "cell_type": "markdown",
      "source": [
        "## 4. Tokenizer\n",
        "\n",
        "A neural network cannot work directly on text-strings so we must convert it somehow. There are two steps in this conversion, the first step is called the \"tokenizer\" which converts words to integers and is done on the data-set before it is input to the neural network. The second step is an integrated part of the neural network itself and is called the \"embedding\"-layer.\n",
        "\n",
        "We may instruct the tokenizer to only use e.g. the 1000 most popular words from the data-set."
      ],
      "metadata": {
        "id": "xS3NDMvGQdP0"
      }
    },
    {
      "cell_type": "code",
      "source": [
        "num_words = 1000"
      ],
      "metadata": {
        "id": "VpBr_S6bQWID"
      },
      "execution_count": null,
      "outputs": []
    },
    {
      "cell_type": "code",
      "source": [
        "tokenizer = Tokenizer(num_words=num_words)"
      ],
      "metadata": {
        "id": "-yB81UiIQq9y"
      },
      "execution_count": null,
      "outputs": []
    },
    {
      "cell_type": "markdown",
      "source": [
        "The tokenizer can then be \"fitted\" to the data-set. This scans through all the text and strips it from unwanted characters such as punctuation, and also converts it to lower-case characters. The tokenizer then builds a vocabulary of all unique words along with various data-structures for accessing the data.\n",
        "\n",
        "Note that we fit the tokenizer on the entire data-set so it gathers words from both the training- and test-data. This is OK as we are merely building a vocabulary and want it to be as complete as possible. The actual neural network will of course only be trained on the training-set."
      ],
      "metadata": {
        "id": "DHIp-jHnQ16R"
      }
    },
    {
      "cell_type": "code",
      "source": [
        "%%time\n",
        "#data_text = train_text + val_text\n",
        "tokenizer.fit_on_texts(train_text)"
      ],
      "metadata": {
        "colab": {
          "base_uri": "https://localhost:8080/"
        },
        "id": "fk_YYZOsQw4_",
        "outputId": "717894fe-5fae-45b4-a7bf-bff0455420a7"
      },
      "execution_count": null,
      "outputs": [
        {
          "output_type": "stream",
          "name": "stdout",
          "text": [
            "CPU times: user 9.59 ms, sys: 0 ns, total: 9.59 ms\n",
            "Wall time: 14.5 ms\n"
          ]
        }
      ]
    },
    {
      "cell_type": "code",
      "source": [
        "if num_words is None:\n",
        "    num_words = len(tokenizer.word_index)"
      ],
      "metadata": {
        "id": "I5fNkkQ0Q4ht"
      },
      "execution_count": null,
      "outputs": []
    },
    {
      "cell_type": "code",
      "source": [
        "tokenizer.word_index"
      ],
      "metadata": {
        "colab": {
          "base_uri": "https://localhost:8080/"
        },
        "id": "VX2-eGxhSEKQ",
        "outputId": "a84cf61d-330f-49ac-b6f7-1934be4b555d"
      },
      "execution_count": null,
      "outputs": [
        {
          "output_type": "execute_result",
          "data": {
            "text/plain": [
              "{'accreditation': 1,\n",
              " 'regular': 2,\n",
              " 'human': 3,\n",
              " 'resources': 4,\n",
              " 'ephesians': 5,\n",
              " 'passport': 6,\n",
              " 'hiring': 7,\n",
              " 'kuwait': 8,\n",
              " 'bound': 9,\n",
              " 'saudi': 10,\n",
              " 'domestic': 11,\n",
              " 'free': 12,\n",
              " 'female': 13,\n",
              " 'qatar': 14,\n",
              " 'salary': 15,\n",
              " 'agency': 16,\n",
              " 'arabia': 17,\n",
              " 'recruitment': 18,\n",
              " 'manpower': 19,\n",
              " 'urgent': 20,\n",
              " 'medical': 21,\n",
              " 'office': 22,\n",
              " 'years': 23,\n",
              " 'abroad': 24,\n",
              " 'with': 25,\n",
              " 'poea': 26,\n",
              " 'ready': 27,\n",
              " 'placement': 28,\n",
              " 'helper': 29,\n",
              " 'male': 30,\n",
              " 'services': 31,\n",
              " 'corporation': 32,\n",
              " 'work': 33,\n",
              " 'oman': 34,\n",
              " 'lang': 35,\n",
              " 'employer': 36,\n",
              " 'interested': 37,\n",
              " 'only': 38,\n",
              " 'mojo': 39,\n",
              " 'driver': 40,\n",
              " 'worker': 41,\n",
              " 'experience': 42,\n",
              " 'applicants': 43,\n",
              " 'must': 44,\n",
              " 'https': 45,\n",
              " 'dubai': 46,\n",
              " 'holder': 47,\n",
              " 'first': 48,\n",
              " 'allowance': 49,\n",
              " 'hospital': 50,\n",
              " 'united': 51,\n",
              " 'deployment': 52,\n",
              " 'legit': 53,\n",
              " 'valid': 54,\n",
              " 'technician': 55,\n",
              " 'good': 56,\n",
              " 'upon': 57,\n",
              " 'international': 58,\n",
              " 'apply': 59,\n",
              " 'food': 60,\n",
              " 'basta': 61,\n",
              " 'manila': 62,\n",
              " 'send': 63,\n",
              " 'libre': 64,\n",
              " 'workers': 65,\n",
              " 'email': 66,\n",
              " 'cash': 67,\n",
              " 'timer': 68,\n",
              " 'service': 69,\n",
              " 'bahrain': 70,\n",
              " 'call': 71,\n",
              " 'post': 72,\n",
              " 'family': 73,\n",
              " 'accomodation': 74,\n",
              " 'asst': 75,\n",
              " 'license': 76,\n",
              " 'arab': 77,\n",
              " 'emirates': 78,\n",
              " 'fast': 79,\n",
              " 'processing': 80,\n",
              " 'engineer': 81,\n",
              " 'least': 82,\n",
              " 'deduction': 83,\n",
              " 'passporting': 84,\n",
              " 'details': 85,\n",
              " 'singapore': 86,\n",
              " 'trading': 87,\n",
              " 'need': 88,\n",
              " 'qualifications': 89,\n",
              " 'operator': 90,\n",
              " 'jordan': 91,\n",
              " 'requirements': 92,\n",
              " 'message': 93,\n",
              " 'resume': 94,\n",
              " 'nurse': 95,\n",
              " 'cook': 96,\n",
              " 'thank': 97,\n",
              " 'mechanic': 98,\n",
              " 'refundable': 99,\n",
              " 'muna': 100,\n",
              " 'group': 101,\n",
              " 'interview': 102,\n",
              " 'abdulaziz': 103,\n",
              " 'saleh': 104,\n",
              " 'almetwazi': 105,\n",
              " 'looking': 106,\n",
              " 'malaysia': 107,\n",
              " 'employers': 108,\n",
              " 'management': 109,\n",
              " 'hotel': 110,\n",
              " 'mechanical': 111,\n",
              " 'pinaycares': 112,\n",
              " 'equipment': 113,\n",
              " 'working': 114,\n",
              " 'whatsapp': 115,\n",
              " 'company': 116,\n",
              " 'employment': 117,\n",
              " 'please': 118,\n",
              " 'choice': 119,\n",
              " 'supply': 120,\n",
              " 'alekhtiar': 121,\n",
              " 'alawal': 122,\n",
              " 'bringing': 123,\n",
              " 'wala': 124,\n",
              " 'kayo': 125,\n",
              " 'ladies': 126,\n",
              " 'manager': 127,\n",
              " 'walang': 128,\n",
              " 'fees': 129,\n",
              " 'picture': 130,\n",
              " 'contract': 131,\n",
              " 'certificate': 132,\n",
              " 'clinic': 133,\n",
              " 'position': 134,\n",
              " 'direct': 135,\n",
              " 'taga': 136,\n",
              " 'facebook': 137,\n",
              " 'month': 138,\n",
              " 'willing': 139,\n",
              " 'marquez': 140,\n",
              " 'admin': 141,\n",
              " 'atleast': 142,\n",
              " 'another': 143,\n",
              " 'info': 144,\n",
              " 'visa': 145,\n",
              " 'educated': 146,\n",
              " 'trabaho': 147,\n",
              " 'passp': 148,\n",
              " 'gmail': 149,\n",
              " 'altaqadom': 150,\n",
              " 'house': 151,\n",
              " 'housemaid': 152,\n",
              " 'edad': 153,\n",
              " 'salon': 154,\n",
              " 'king': 155,\n",
              " 'armed': 156,\n",
              " 'forces': 157,\n",
              " 'factory': 158,\n",
              " 'cleaner': 159,\n",
              " 'household': 160,\n",
              " 'training': 161,\n",
              " 'transportation': 162,\n",
              " 'para': 163,\n",
              " 'aura': 164,\n",
              " 'fitness': 165,\n",
              " 'year': 166,\n",
              " 'riyadh': 167,\n",
              " 'pwede': 168,\n",
              " 'branch': 169,\n",
              " 'japan': 170,\n",
              " 'text': 171,\n",
              " 'licensed': 172,\n",
              " 'rubilyn': 173,\n",
              " 'pleasing': 174,\n",
              " 'personality': 175,\n",
              " 'waiter': 176,\n",
              " 'waitress': 177,\n",
              " 'link': 178,\n",
              " 'detalye': 179,\n",
              " 'without': 180,\n",
              " 'number': 181,\n",
              " 'address': 182,\n",
              " 'fitter': 183,\n",
              " 'engineers': 184,\n",
              " 'restaurant': 185,\n",
              " 'staff': 186,\n",
              " 'creative': 187,\n",
              " 'hands': 188,\n",
              " 'note': 189,\n",
              " 'location': 190,\n",
              " 'diploma': 191,\n",
              " 'course': 192,\n",
              " 'school': 193,\n",
              " 'field': 194,\n",
              " 'graduate': 195,\n",
              " 'that': 196,\n",
              " 'four': 197,\n",
              " 'pets': 198,\n",
              " 'veterinary': 199,\n",
              " 'pamasahe': 200,\n",
              " 'guaranteed': 201,\n",
              " 'allowed': 202,\n",
              " 'connected': 203,\n",
              " 'wifi': 204,\n",
              " 'unahin': 205,\n",
              " 'makakausap': 206,\n",
              " 'thru': 207,\n",
              " 'firstimer': 208,\n",
              " 'poland': 209,\n",
              " 'available': 210,\n",
              " 'production': 211,\n",
              " 'required': 212,\n",
              " 'salam': 213,\n",
              " 'private': 214,\n",
              " 'helpers': 215,\n",
              " 'maintenance': 216,\n",
              " 'general': 217,\n",
              " 'country': 218,\n",
              " 'this': 219,\n",
              " 'collins': 220,\n",
              " 'avenue': 221,\n",
              " 'health': 222,\n",
              " 'institute': 223,\n",
              " 'beauty': 224,\n",
              " 'alreaya': 225,\n",
              " 'beer': 226,\n",
              " 'test': 227,\n",
              " 'owwa': 228,\n",
              " 'province': 229,\n",
              " 'report': 230,\n",
              " 'name': 231,\n",
              " 'height': 232,\n",
              " 'copy': 233,\n",
              " 'center': 234,\n",
              " 'limit': 235,\n",
              " 'sana': 236,\n",
              " 'babayaran': 237,\n",
              " 'agad': 238,\n",
              " 'tesda': 239,\n",
              " 'officer': 240,\n",
              " 'nail': 241,\n",
              " 'beware': 242,\n",
              " 'illegal': 243,\n",
              " 'pooling': 244,\n",
              " 'dalawang': 245,\n",
              " 'interesado': 246,\n",
              " 'ptpa': 247,\n",
              " 'directly': 248,\n",
              " 'updated': 249,\n",
              " 'electrician': 250,\n",
              " 'stay': 251,\n",
              " 'accommodation': 252,\n",
              " 'ermita': 253,\n",
              " 'lines': 254,\n",
              " 'technical': 255,\n",
              " 'welder': 256,\n",
              " 'electro': 257,\n",
              " 'collected': 258,\n",
              " 'croatia': 259,\n",
              " 'steelmont': 260,\n",
              " 'immediate': 261,\n",
              " 'joining': 262,\n",
              " 'caregiver': 263,\n",
              " 'aldrin': 264,\n",
              " 'travelbuzz': 265,\n",
              " 'shared': 266,\n",
              " 'vocational': 267,\n",
              " 'short': 268,\n",
              " 'greenfields': 269,\n",
              " 'high': 270,\n",
              " 'romar': 271,\n",
              " 'overseas': 272,\n",
              " 'dynamic': 273,\n",
              " 'personnel': 274,\n",
              " 'urgently': 275,\n",
              " 'executive': 276,\n",
              " 'heavy': 277,\n",
              " 'like': 278,\n",
              " 'project': 279,\n",
              " 'civil': 280,\n",
              " 'engineering': 281,\n",
              " 'ensure': 282,\n",
              " 'construction': 283,\n",
              " 'limited': 284,\n",
              " 'happy': 285,\n",
              " 'world': 286,\n",
              " 'taccad': 287,\n",
              " 'currently': 288,\n",
              " 'information': 289,\n",
              " 'guarantee': 290,\n",
              " 'records': 291,\n",
              " 'assistance': 292,\n",
              " 'serious': 293,\n",
              " 'tayo': 294,\n",
              " 'pang': 295,\n",
              " 'niyo': 296,\n",
              " 'kong': 297,\n",
              " 'specialist': 298,\n",
              " 'fahad': 299,\n",
              " 'moda': 300,\n",
              " 'khamis': 301,\n",
              " 'mushayt': 302,\n",
              " 'housekeeper': 303,\n",
              " 'roya': 304,\n",
              " 'flowery': 305,\n",
              " 'holidays': 306,\n",
              " 'suite': 307,\n",
              " 'htoun': 308,\n",
              " 'lady': 309,\n",
              " 'nanny': 310,\n",
              " 'after': 311,\n",
              " 'qualification': 312,\n",
              " 'infosheet': 313,\n",
              " 'gamit': 314,\n",
              " 'iwan': 315,\n",
              " 'birth': 316,\n",
              " 'bsta': 317,\n",
              " 'resibo': 318,\n",
              " 'probinsya': 319,\n",
              " 'centers': 320,\n",
              " 'gagastusin': 321,\n",
              " 'rest': 322,\n",
              " 'napo': 323,\n",
              " 'gagastos': 324,\n",
              " 'makasabay': 325,\n",
              " 'pagreport': 326,\n",
              " 'monday': 327,\n",
              " 'evolution': 328,\n",
              " 'airconditioning': 329,\n",
              " 'hamad': 330,\n",
              " 'qannas': 331,\n",
              " 'alnamran': 332,\n",
              " 'process': 333,\n",
              " 'hana': 334,\n",
              " 'building': 335,\n",
              " 'english': 336,\n",
              " 'nasa': 337,\n",
              " 'bahay': 338,\n",
              " 'gustong': 339,\n",
              " 'gusto': 340,\n",
              " 'tulungan': 341,\n",
              " 'utech': 342,\n",
              " 'should': 343,\n",
              " 'physically': 344,\n",
              " 'kasamang': 345,\n",
              " 'pinay': 346,\n",
              " 'plus': 347,\n",
              " 'kindly': 348,\n",
              " 'agent': 349,\n",
              " 'recruiters': 350,\n",
              " 'traffickers': 351,\n",
              " 'loan': 352,\n",
              " 'transpo': 353,\n",
              " 'chef': 354,\n",
              " 'partie': 355,\n",
              " 'gulf': 356,\n",
              " 'rrjm': 357,\n",
              " 'roxas': 358,\n",
              " 'city': 359,\n",
              " 'bless': 360,\n",
              " 'original': 361,\n",
              " 'whole': 362,\n",
              " 'body': 363,\n",
              " 'philippine': 364,\n",
              " 'cruise': 365,\n",
              " 'positions': 366,\n",
              " 'mason': 367,\n",
              " 'carpenter': 368,\n",
              " 'plumber': 369,\n",
              " 'tailor': 370,\n",
              " 'repairman': 371,\n",
              " 'refrigeration': 372,\n",
              " 'fire': 373,\n",
              " 'bartender': 374,\n",
              " 'local': 375,\n",
              " 'hire': 376,\n",
              " 'transferable': 377,\n",
              " 'attractive': 378,\n",
              " 'benefits': 379,\n",
              " 'alam': 380,\n",
              " 'umalis': 381,\n",
              " 'filipina': 382,\n",
              " 'reels': 383,\n",
              " 'instagood': 384,\n",
              " 'victory': 385,\n",
              " 'mudhaf': 386,\n",
              " 'kulaib': 387,\n",
              " 'almudhaf': 388,\n",
              " 'alkulaib': 389,\n",
              " 'falah': 390,\n",
              " 'siniar': 391,\n",
              " 'cafe': 392,\n",
              " 'safe': 393,\n",
              " 'store': 394,\n",
              " 'just': 395,\n",
              " 'taiwan': 396,\n",
              " 'thanks': 397,\n",
              " 'barista': 398,\n",
              " 'dates': 399,\n",
              " 'consulting': 400,\n",
              " 'darwasa': 401,\n",
              " 'establishment': 402,\n",
              " 'bukas': 403,\n",
              " 'flight': 404,\n",
              " 'refund': 405,\n",
              " 'offer': 406,\n",
              " 'opening': 407,\n",
              " 'sales': 408,\n",
              " 'have': 409,\n",
              " 'faulty': 410,\n",
              " 'parts': 411,\n",
              " 'damaged': 412,\n",
              " 'cleaning': 413,\n",
              " 'duty': 414,\n",
              " 'design': 415,\n",
              " 'monitoring': 416,\n",
              " 'contractors': 417,\n",
              " 'during': 418,\n",
              " 'projects': 419,\n",
              " 'fahd': 420,\n",
              " 'ministry': 421,\n",
              " 'defense': 422,\n",
              " 'divis': 423,\n",
              " 'laborer': 424,\n",
              " 'fiji': 425,\n",
              " 'golden': 426,\n",
              " 'ocean': 427,\n",
              " 'fish': 428,\n",
              " 'abdulrahman': 429,\n",
              " 'barrak': 430,\n",
              " 'abdulmohsen': 431,\n",
              " 'albabtain': 432,\n",
              " 'trad': 433,\n",
              " 'cont': 434,\n",
              " 'voters': 435,\n",
              " 'desidido': 436,\n",
              " 'australia': 437,\n",
              " 'people': 438,\n",
              " 'develop': 439,\n",
              " 'long': 440,\n",
              " 'term': 441,\n",
              " 'business': 442,\n",
              " 'growth': 443,\n",
              " 'join': 444,\n",
              " 'team': 445,\n",
              " 'receptionist': 446,\n",
              " 'permission': 447,\n",
              " 'assistant': 448,\n",
              " 'here': 449,\n",
              " 'clicking': 450,\n",
              " 'safety': 451,\n",
              " 'slots': 452,\n",
              " 'baby': 453,\n",
              " 'sitter': 454,\n",
              " 'resource': 455,\n",
              " 'happyworldrecruitment': 456,\n",
              " 'agencies': 457,\n",
              " 'maraming': 458,\n",
              " 'change': 459,\n",
              " 'opportunities': 460,\n",
              " 'obtain': 461,\n",
              " 'residency': 462,\n",
              " 'demand': 463,\n",
              " 'developer': 464,\n",
              " 'advantage': 465,\n",
              " 'ielts': 466,\n",
              " 'marketing': 467,\n",
              " 'entertain': 468,\n",
              " 'taas': 469,\n",
              " 'sorry': 470,\n",
              " 'tanggap': 471,\n",
              " 'order': 472,\n",
              " 'maam': 473,\n",
              " 'make': 474,\n",
              " 'sure': 475,\n",
              " 'already': 476,\n",
              " 'ayaw': 477,\n",
              " 'interntain': 478,\n",
              " 'akong': 479,\n",
              " 'kausap': 480,\n",
              " 'marunong': 481,\n",
              " 'umintindi': 482,\n",
              " 'sagot': 483,\n",
              " 'inquiry': 484,\n",
              " 'madami': 485,\n",
              " 'assist': 486,\n",
              " 'hair': 487,\n",
              " 'products': 488,\n",
              " 'suites': 489,\n",
              " 'hotels': 490,\n",
              " 'apartments': 491,\n",
              " 'alkhir': 492,\n",
              " 'khir': 493,\n",
              " 'tamayouz': 494,\n",
              " 'problema': 495,\n",
              " 'xray': 496,\n",
              " 'tinatanggap': 497,\n",
              " 'tattoo': 498,\n",
              " 'rapid': 499,\n",
              " 'accept': 500,\n",
              " 'pambili': 501,\n",
              " 'pamilya': 502,\n",
              " 'signing': 503,\n",
              " 'pedos': 504,\n",
              " 'kumpleto': 505,\n",
              " 'marriage': 506,\n",
              " 'kasal': 507,\n",
              " 'from': 508,\n",
              " 'tatawagan': 509,\n",
              " 'bago': 510,\n",
              " 'lugar': 511,\n",
              " 'premed': 512,\n",
              " 'ppadala': 513,\n",
              " 'kasma': 514,\n",
              " 'lluwas': 515,\n",
              " 'adres': 516,\n",
              " 'status': 517,\n",
              " 'weight': 518,\n",
              " 'children': 519,\n",
              " 'religion': 520,\n",
              " 'education': 521,\n",
              " 'attainment': 522,\n",
              " 'messenger': 523,\n",
              " 'lifeguard': 524,\n",
              " 'korea': 525,\n",
              " 'more': 526,\n",
              " 'public': 527,\n",
              " 'light': 528,\n",
              " 'vehicle': 529,\n",
              " 'scripts': 530,\n",
              " 'provided': 531,\n",
              " 'kahit': 532,\n",
              " 'kumita': 533,\n",
              " 'sumali': 534,\n",
              " 'kaso': 535,\n",
              " 'pampuhunan': 536,\n",
              " 'news': 537,\n",
              " 'kita': 538,\n",
              " 'encode': 539,\n",
              " 'araw': 540,\n",
              " 'pwedeng': 541,\n",
              " 'withdraw': 542,\n",
              " 'minutes': 543,\n",
              " 'open': 544,\n",
              " 'employed': 545,\n",
              " 'unemployed': 546,\n",
              " 'students': 547,\n",
              " 'wife': 548,\n",
              " 'inbox': 549,\n",
              " 'shamiya': 550,\n",
              " 'establishmentfor': 551,\n",
              " 'designer': 552,\n",
              " 'determined': 553,\n",
              " 'makuha': 554,\n",
              " 'pong': 555,\n",
              " 'dayoff': 556,\n",
              " 'every': 557,\n",
              " 'carpool': 558,\n",
              " 'ticket': 559,\n",
              " 'nagsusundo': 560,\n",
              " 'talaga': 561,\n",
              " 'smart': 562,\n",
              " 'regine': 563,\n",
              " 'cruz': 564,\n",
              " 'asis': 565,\n",
              " 'pemission': 566,\n",
              " 'advance': 567,\n",
              " 'cleaners': 568,\n",
              " 'overweight': 569,\n",
              " 'riyals': 570,\n",
              " 'your': 571,\n",
              " 'works': 572,\n",
              " 'accepting': 573,\n",
              " 'babysitter': 574,\n",
              " 'orubah': 575,\n",
              " 'alorubah': 576,\n",
              " 'mission': 577,\n",
              " 'linis': 578,\n",
              " 'isang': 579,\n",
              " 'bantay': 580,\n",
              " 'bata': 581,\n",
              " 'times': 582,\n",
              " 'starting': 583,\n",
              " 'kaya': 584,\n",
              " 'waiting': 585,\n",
              " 'commis': 586,\n",
              " 'demi': 587,\n",
              " 'destination': 588,\n",
              " 'kingdom': 589,\n",
              " 'khobar': 590,\n",
              " 'raja': 591,\n",
              " 'cooperation': 592,\n",
              " 'council': 593,\n",
              " 'jforniloza': 594,\n",
              " 'mobile': 595,\n",
              " 'glory': 596,\n",
              " 'sewer': 597,\n",
              " 'embroidery': 598,\n",
              " 'inquiries': 599,\n",
              " 'asia': 600,\n",
              " 'reach': 601,\n",
              " 'contractor': 602,\n",
              " 'nangangailangan': 603,\n",
              " 'buksan': 604,\n",
              " 'buong': 605,\n",
              " 'jake': 606,\n",
              " 'located': 607,\n",
              " 'capricho': 608,\n",
              " 'going': 609,\n",
              " 'lahat': 610,\n",
              " 'except': 611,\n",
              " 'davao': 612,\n",
              " 'tsaka': 613,\n",
              " 'ipadala': 614,\n",
              " 'result': 615,\n",
              " 'documents': 616,\n",
              " 'kuya': 617,\n",
              " 'gathercole': 618,\n",
              " 'sheet': 619,\n",
              " 'meron': 620,\n",
              " 'couple': 621,\n",
              " 'transaction': 622,\n",
              " 'businesswise': 623,\n",
              " 'adriatico': 624,\n",
              " 'clara': 625,\n",
              " 'intramuros': 626,\n",
              " 'onboard': 627,\n",
              " 'ship': 628,\n",
              " 'carnival': 629,\n",
              " 'landbased': 630,\n",
              " 'will': 631,\n",
              " 'considered': 632,\n",
              " 'galley': 633,\n",
              " 'kitchen': 634,\n",
              " 'facilities': 635,\n",
              " 'tilestter': 636,\n",
              " 'uplholsterer': 637,\n",
              " 'locksmiths': 638,\n",
              " 'reefer': 639,\n",
              " 'seamstress': 640,\n",
              " 'mepf': 641,\n",
              " 'techincians': 642,\n",
              " 'regrigeration': 643,\n",
              " 'fitters': 644,\n",
              " 'electrical': 645,\n",
              " 'technicians': 646,\n",
              " 'incinerator': 647,\n",
              " 'wastedisposal': 648,\n",
              " 'wastehandler': 649,\n",
              " 'garbage': 650,\n",
              " 'patrol': 651,\n",
              " 'fireman': 652,\n",
              " 'fighter': 653,\n",
              " 'inventory': 654,\n",
              " 'controller': 655,\n",
              " 'engine': 656,\n",
              " 'department': 657,\n",
              " 'aoeii': 658,\n",
              " 'form': 659,\n",
              " 'purpose': 660,\n",
              " 'resumes': 661,\n",
              " 'cclrecruitment': 662,\n",
              " 'uplines': 663,\n",
              " 'subject': 664,\n",
              " 'applied': 665,\n",
              " 'grinders': 666,\n",
              " 'clovis': 667,\n",
              " 'california': 668,\n",
              " 'fresno': 669,\n",
              " 'asap': 670,\n",
              " 'sinu': 671,\n",
              " 'biglaan': 672,\n",
              " 'emergency': 673,\n",
              " 'filipino': 674,\n",
              " 'pinoy': 675,\n",
              " 'thankyoulord': 676,\n",
              " 'foryoupage': 677,\n",
              " 'fyp': 678,\n",
              " 'viral': 679,\n",
              " 'trending': 680,\n",
              " 'foryou': 681,\n",
              " 'fbreels': 682,\n",
              " 'motivation': 683,\n",
              " 'inspiration': 684,\n",
              " 'instadaily': 685,\n",
              " 'buhayofw': 686,\n",
              " 'pinas': 687,\n",
              " 'pinoyvlogger': 688,\n",
              " 'pilipino': 689,\n",
              " 'buhayabroad': 690,\n",
              " 'instagram': 691,\n",
              " 'shorts': 692,\n",
              " 'ofwlife': 693,\n",
              " 'ofw': 694,\n",
              " 'philippines': 695,\n",
              " 'pinoyabroad': 696,\n",
              " 'click': 697,\n",
              " 'follow': 698,\n",
              " 'indonesia': 699,\n",
              " 'sekolah': 700,\n",
              " 'yayasan': 701,\n",
              " 'pendidikan': 702,\n",
              " 'bahasa': 703,\n",
              " 'teacher': 704,\n",
              " 'secondary': 705,\n",
              " 'biology': 706,\n",
              " 'complex': 707,\n",
              " 'polyclinics': 708,\n",
              " 'skilled': 709,\n",
              " 'kami': 710,\n",
              " 'daar': 711,\n",
              " 'accomodations': 712,\n",
              " 'foods': 713,\n",
              " 'feel': 714,\n",
              " 'cell': 715,\n",
              " 'yold': 716,\n",
              " 'vaccine': 717,\n",
              " 'keep': 718,\n",
              " 'everyone': 719,\n",
              " 'dollar': 720,\n",
              " 'quatar': 721,\n",
              " 'active': 722,\n",
              " 'moral': 723,\n",
              " 'messaged': 724,\n",
              " 'caretaker': 725,\n",
              " 'tainan': 726,\n",
              " 'county': 727,\n",
              " 'ping': 728,\n",
              " 'crews': 729,\n",
              " 'modern': 730,\n",
              " 'national': 731,\n",
              " 'bakery': 732,\n",
              " 'royal': 733,\n",
              " 'ajeer': 734,\n",
              " 'arco': 735,\n",
              " 'june': 736,\n",
              " 'negotiable': 737,\n",
              " 'crew': 738,\n",
              " 'validity': 739,\n",
              " 'direcly': 740,\n",
              " 'said': 741,\n",
              " 'hanapin': 742,\n",
              " 'jehrome': 743,\n",
              " 'errx': 744,\n",
              " 'agapita': 745,\n",
              " 'condominium': 746,\n",
              " 'leon': 747,\n",
              " 'guinto': 748,\n",
              " 'malate': 749,\n",
              " 'pictures': 750,\n",
              " 'mine': 751,\n",
              " 'ctto': 752,\n",
              " 'automotive': 753,\n",
              " 'assembly': 754,\n",
              " 'hungary': 755,\n",
              " 'domistec': 756,\n",
              " 'darwaza': 757,\n",
              " 'nagnanais': 758,\n",
              " 'mkapagtrabho': 759,\n",
              " 'damdam': 760,\n",
              " 'natatakot': 761,\n",
              " 'mkpag': 762,\n",
              " 'pasko': 763,\n",
              " 'bagong': 764,\n",
              " 'taon': 765,\n",
              " 'pilipinas': 766,\n",
              " 'magalala': 767,\n",
              " 'pasport': 768,\n",
              " 'prepare': 769,\n",
              " 'pasporting': 770,\n",
              " 'baggage': 771,\n",
              " 'bfore': 772,\n",
              " 'till': 773,\n",
              " 'comment': 774,\n",
              " 'ibigay': 775,\n",
              " 'interest': 776,\n",
              " 'toiletries': 777,\n",
              " 'appply': 778,\n",
              " 'alhasawi': 779,\n",
              " 'housekeepers': 780,\n",
              " 'room': 781,\n",
              " 'attendants': 782,\n",
              " 'competitive': 783,\n",
              " 'package': 784,\n",
              " 'offers': 785,\n",
              " 'environment': 786,\n",
              " 'sports': 787,\n",
              " 'refer': 788,\n",
              " 'friends': 789,\n",
              " 'help': 790,\n",
              " 'land': 791,\n",
              " 'joud': 792,\n",
              " 'final': 793,\n",
              " 'exit': 794,\n",
              " 'driving': 795,\n",
              " 'site': 796,\n",
              " 'inspecting': 797,\n",
              " 'trucks': 798,\n",
              " 'cranes': 799,\n",
              " 'bulldozers': 800,\n",
              " 'other': 801,\n",
              " 'proper': 802,\n",
              " 'performance': 803,\n",
              " 'diagnosing': 804,\n",
              " 'faults': 805,\n",
              " 'using': 806,\n",
              " 'computerized': 807,\n",
              " 'testing': 808,\n",
              " 'adjusting': 809,\n",
              " 'replacing': 810,\n",
              " 'repairing': 811,\n",
              " 'lubricating': 812,\n",
              " 'conducting': 813,\n",
              " 'routine': 814,\n",
              " 'vehicles': 815,\n",
              " 'servicing': 816,\n",
              " 'machine': 817,\n",
              " 'attachments': 818,\n",
              " 'winches': 819,\n",
              " 'blades': 820,\n",
              " 'side': 821,\n",
              " 'booms': 822,\n",
              " 'performing': 823,\n",
              " 'major': 824,\n",
              " 'repair': 825,\n",
              " 'when': 826,\n",
              " 'necessary': 827,\n",
              " 'others': 828,\n",
              " 'mechanics': 829,\n",
              " 'small': 830,\n",
              " 'jobs': 831,\n",
              " 'reporting': 832,\n",
              " 'coordinating': 833,\n",
              " 'client': 834,\n",
              " 'meets': 835,\n",
              " 'their': 836,\n",
              " 'needs': 837,\n",
              " 'specifications': 838,\n",
              " 'scheduling': 839,\n",
              " 'overseeing': 840,\n",
              " 'activities': 841,\n",
              " 'ensurer': 842,\n",
              " 'deadline': 843,\n",
              " 'oroject': 844,\n",
              " 'budgets': 845,\n",
              " 'costs': 846,\n",
              " 'within': 847,\n",
              " 'reasonable': 848,\n",
              " 'limits': 849,\n",
              " 'reviewing': 850,\n",
              " 'plans': 851,\n",
              " 'flaws': 852,\n",
              " 'making': 853,\n",
              " 'recommendations': 854,\n",
              " 'emprovement': 855,\n",
              " 'they': 856,\n",
              " 'adhering': 857,\n",
              " 'industry': 858,\n",
              " 'standards': 859,\n",
              " 'best': 860,\n",
              " 'practices': 861,\n",
              " 'provide': 862,\n",
              " 'support': 863,\n",
              " 'phase': 864,\n",
              " 'developing': 865,\n",
              " 'timeliness': 866,\n",
              " 'including': 867,\n",
              " 'phases': 868,\n",
              " 'emplementation': 869,\n",
              " 'completion': 870,\n",
              " 'milestones': 871,\n",
              " 'along': 872,\n",
              " 'assisting': 873,\n",
              " 'development': 874,\n",
              " 'bids': 875,\n",
              " 'maybe': 876,\n",
              " 'clients': 877,\n",
              " 'ensuring': 878,\n",
              " 'applicable': 879,\n",
              " 'laws': 880,\n",
              " 'regulations': 881,\n",
              " 'followed': 882,\n",
              " 'constraction': 883,\n",
              " 'applicant': 884,\n",
              " 'aquaculture': 885,\n",
              " 'groomer': 886,\n",
              " 'bang': 887,\n",
              " 'magtrabaho': 888,\n",
              " 'honor': 889,\n",
              " 'niyong': 890,\n",
              " 'icheck': 891,\n",
              " 'makasigurado': 892,\n",
              " 'worry': 893,\n",
              " 'bahala': 894,\n",
              " 'sayo': 895,\n",
              " 'pesos': 896,\n",
              " 'complete': 897,\n",
              " 'cert': 898,\n",
              " 'umid': 899,\n",
              " 'huwag': 900,\n",
              " 'paasa': 901,\n",
              " 'jeddah': 902,\n",
              " 'dammam': 903,\n",
              " 'emplyer': 904,\n",
              " 'assisst': 905,\n",
              " 'today': 906,\n",
              " 'assisstance': 907,\n",
              " 'look': 908,\n",
              " 'claudine': 909,\n",
              " 'opportunity': 910,\n",
              " 'market': 911,\n",
              " 'leader': 912,\n",
              " 'bigger': 913,\n",
              " 'scale': 914,\n",
              " 'commercial': 915,\n",
              " 'culture': 916,\n",
              " 'hard': 917,\n",
              " 'want': 918,\n",
              " 'careers': 919,\n",
              " 'goals': 920,\n",
              " 'dedicated': 921,\n",
              " 'encourage': 922,\n",
              " 'anyone': 923,\n",
              " 'skills': 924,\n",
              " 'right': 925,\n",
              " 'type': 926,\n",
              " 'diversely': 927,\n",
              " 'sensational': 928,\n",
              " 'truck': 929,\n",
              " 'backhoe': 930,\n",
              " 'motor': 931,\n",
              " 'chief': 932,\n",
              " 'industrial': 933,\n",
              " 'togp': 934,\n",
              " 'slim': 935,\n",
              " 'minimum': 936,\n",
              " 'back': 937,\n",
              " 'secretary': 938,\n",
              " 'communication': 939,\n",
              " 'skill': 940,\n",
              " 'oral': 941,\n",
              " 'written': 942,\n",
              " 'college': 943,\n",
              " 'issuance': 944,\n",
              " 'swab': 945,\n",
              " 'brunei': 946,\n",
              " 'babae': 947,\n",
              " 'tyong': 948,\n",
              " 'nauuso': 949,\n",
              " 'ngaun': 950,\n",
              " 'tanging': 951,\n",
              " 'assurance': 952,\n",
              " 'action': 953,\n",
              " 'under': 954,\n",
              " 'friday': 955,\n",
              " 'luck': 956,\n",
              " 'iready': 957,\n",
              " 'dapat': 958,\n",
              " 'full': 959,\n",
              " 'line': 960,\n",
              " 'placewell': 961,\n",
              " 'intl': 962,\n",
              " 'corp': 963,\n",
              " 'recruiter': 964,\n",
              " 'power': 965,\n",
              " 'needed': 966,\n",
              " 'beverly': 967,\n",
              " 'hills': 968,\n",
              " 'officers': 969,\n",
              " 'architecture': 970,\n",
              " 'supervisor': 971,\n",
              " 'capenter': 972,\n",
              " 'foreman': 973,\n",
              " 'dishwasher': 974,\n",
              " 'crane': 975,\n",
              " 'forklifter': 976,\n",
              " 'fabricator': 977,\n",
              " 'pipe': 978,\n",
              " 'time': 979,\n",
              " 'kepper': 980,\n",
              " 'keeper': 981,\n",
              " 'auto': 982,\n",
              " 'wall': 983,\n",
              " 'painter': 984,\n",
              " 'gardener': 985,\n",
              " 'girl': 986,\n",
              " 'rigger': 987,\n",
              " 'grass': 988,\n",
              " 'cutter': 989,\n",
              " 'grinder': 990,\n",
              " 'automobile': 991,\n",
              " 'data': 992,\n",
              " 'entry': 993,\n",
              " 'security': 994,\n",
              " 'submit': 995,\n",
              " 'there': 996,\n",
              " 'mail': 997,\n",
              " 'thebeverlyhillshotel': 998,\n",
              " 'contact': 999,\n",
              " 'given': 1000,\n",
              " ...}"
            ]
          },
          "metadata": {},
          "execution_count": 23
        }
      ]
    },
    {
      "cell_type": "markdown",
      "source": [
        "We can then use the tokenizer to convert all texts in the training-set to lists of these tokens."
      ],
      "metadata": {
        "id": "Yhb_o9ESVDFP"
      }
    },
    {
      "cell_type": "code",
      "source": [
        "x_train_tokens = tokenizer.texts_to_sequences(train_text)"
      ],
      "metadata": {
        "id": "89gMSY5lSHGh"
      },
      "execution_count": null,
      "outputs": []
    },
    {
      "cell_type": "markdown",
      "source": [
        "For example, here is a text from the training-set:"
      ],
      "metadata": {
        "id": "KpVZ7KsgVjxm"
      }
    },
    {
      "cell_type": "code",
      "source": [
        "train_text[50]"
      ],
      "metadata": {
        "colab": {
          "base_uri": "https://localhost:8080/",
          "height": 35
        },
        "id": "irG4dPyFVLmy",
        "outputId": "e6523f74-a85b-47f7-bd1c-8698541fe1a6"
      },
      "execution_count": null,
      "outputs": [
        {
          "output_type": "execute_result",
          "data": {
            "text/plain": [
              "'urgent urgent bartender immediate joining local hire experience transferable attractive salary benefits send whatsapp'"
            ],
            "application/vnd.google.colaboratory.intrinsic+json": {
              "type": "string"
            }
          },
          "metadata": {},
          "execution_count": 25
        }
      ]
    },
    {
      "cell_type": "markdown",
      "source": [
        "This text corresponds to the following list of tokens:"
      ],
      "metadata": {
        "id": "KEWDwIgxVoE1"
      }
    },
    {
      "cell_type": "code",
      "source": [
        "np.array(x_train_tokens[50])"
      ],
      "metadata": {
        "colab": {
          "base_uri": "https://localhost:8080/"
        },
        "id": "ZRGhszfoVU7R",
        "outputId": "21d7f6bb-9c89-4105-bb61-ec036b303bd3"
      },
      "execution_count": null,
      "outputs": [
        {
          "output_type": "execute_result",
          "data": {
            "text/plain": [
              "array([ 20,  20, 374, 261, 262, 375, 376,  42, 377, 378,  15, 379,  63,\n",
              "       115])"
            ]
          },
          "metadata": {},
          "execution_count": 26
        }
      ]
    },
    {
      "cell_type": "markdown",
      "source": [
        "We also need to convert the texts in the test-set to tokens."
      ],
      "metadata": {
        "id": "IXr59e1PV5Ms"
      }
    },
    {
      "cell_type": "code",
      "source": [
        "x_test_tokens = tokenizer.texts_to_sequences(val_text)"
      ],
      "metadata": {
        "id": "f7naZB7CVel9"
      },
      "execution_count": null,
      "outputs": []
    },
    {
      "cell_type": "markdown",
      "source": [
        "## 5. Padding and Truncating Data\n",
        "\n",
        "The Recurrent Neural Network can take sequences of arbitrary length as input, but in order to use a whole batch of data, the sequences need to have the same length. There are two ways of achieving this: (A) Either we ensure that all sequences in the entire data-set have the same length, or (B) we write a custom data-generator that ensures the sequences have the same length within each batch.\n",
        "\n",
        "Solution (A) is simpler but if we use the length of the longest sequence in the data-set, then we are wasting a lot of memory. This is particularly important for larger data-sets.\n",
        "\n",
        "So in order to make a compromise, we will use a sequence-length that covers most sequences in the data-set, and we will then truncate longer sequences and pad shorter sequences.\n",
        "\n",
        "First we count the number of tokens in all the sequences in the data-set."
      ],
      "metadata": {
        "id": "dkqbWJvvWXXE"
      }
    },
    {
      "cell_type": "code",
      "source": [
        "num_tokens = [len(tokens) for tokens in x_train_tokens + x_test_tokens]\n",
        "num_tokens = np.array(num_tokens)"
      ],
      "metadata": {
        "id": "e_y_3w8mWFwh"
      },
      "execution_count": null,
      "outputs": []
    },
    {
      "cell_type": "code",
      "source": [
        "np.mean(num_tokens)"
      ],
      "metadata": {
        "colab": {
          "base_uri": "https://localhost:8080/"
        },
        "id": "jwFilcSyWahC",
        "outputId": "57e70009-cbd9-4261-efc5-65d9ed8cf0a9"
      },
      "execution_count": null,
      "outputs": [
        {
          "output_type": "execute_result",
          "data": {
            "text/plain": [
              "22.737903225806452"
            ]
          },
          "metadata": {},
          "execution_count": 29
        }
      ]
    },
    {
      "cell_type": "code",
      "source": [
        "np.max(num_tokens)"
      ],
      "metadata": {
        "id": "pDZOxHPkWdJ_",
        "colab": {
          "base_uri": "https://localhost:8080/"
        },
        "outputId": "b16336b5-cc2d-4c76-ca00-d208529ebc11"
      },
      "execution_count": null,
      "outputs": [
        {
          "output_type": "execute_result",
          "data": {
            "text/plain": [
              "174"
            ]
          },
          "metadata": {},
          "execution_count": 30
        }
      ]
    },
    {
      "cell_type": "markdown",
      "source": [
        "The max number of tokens we will allow is set to the average plus 2 standard deviations."
      ],
      "metadata": {
        "id": "hDUe4z2XYuyE"
      }
    },
    {
      "cell_type": "code",
      "source": [
        "max_tokens = np.mean(num_tokens) + 2 * np.std(num_tokens)\n",
        "max_tokens = int(max_tokens)\n",
        "max_tokens"
      ],
      "metadata": {
        "id": "I028l8GjW2lz",
        "colab": {
          "base_uri": "https://localhost:8080/"
        },
        "outputId": "ff75d4bf-a0fe-40ea-ffc2-a64f437ca929"
      },
      "execution_count": null,
      "outputs": [
        {
          "output_type": "execute_result",
          "data": {
            "text/plain": [
              "69"
            ]
          },
          "metadata": {},
          "execution_count": 31
        }
      ]
    },
    {
      "cell_type": "markdown",
      "source": [
        "\n",
        "This covers about 95% of the data-set."
      ],
      "metadata": {
        "id": "4Jqs4V42Y_8z"
      }
    },
    {
      "cell_type": "code",
      "source": [
        "np.sum(num_tokens < max_tokens) / len(num_tokens)"
      ],
      "metadata": {
        "colab": {
          "base_uri": "https://localhost:8080/"
        },
        "id": "Ve3N-aucY49I",
        "outputId": "c87cb5b3-dfc2-4558-9d82-fa3649d0de07"
      },
      "execution_count": null,
      "outputs": [
        {
          "output_type": "execute_result",
          "data": {
            "text/plain": [
              "0.9596774193548387"
            ]
          },
          "metadata": {},
          "execution_count": 32
        }
      ]
    },
    {
      "cell_type": "markdown",
      "source": [
        "When padding or truncating the sequences that have a different length, we need to determine if we want to do this padding or truncating 'pre' or 'post'. If a sequence is truncated, it means that a part of the sequence is simply thrown away. If a sequence is padded, it means that zeros are added to the sequence.\n",
        "\n",
        "So the choice of 'pre' or 'post' can be important because it determines whether we throw away the first or last part of a sequence when truncating, and it determines whether we add zeros to the beginning or end of the sequence when padding. This may confuse the Recurrent Neural Network."
      ],
      "metadata": {
        "id": "4gEGygiFZJz-"
      }
    },
    {
      "cell_type": "code",
      "source": [
        "pad = 'pre'"
      ],
      "metadata": {
        "id": "AfF_1Eq2ZKV0"
      },
      "execution_count": null,
      "outputs": []
    },
    {
      "cell_type": "code",
      "source": [
        "x_train_pad = pad_sequences(x_train_tokens, maxlen=max_tokens,\n",
        "                            padding=pad, truncating=pad)"
      ],
      "metadata": {
        "id": "XbNPjUIQZRZp"
      },
      "execution_count": null,
      "outputs": []
    },
    {
      "cell_type": "code",
      "source": [
        "x_test_pad = pad_sequences(x_test_tokens, maxlen=max_tokens,\n",
        "                           padding=pad, truncating=pad)"
      ],
      "metadata": {
        "id": "yZUD6P8GZT90"
      },
      "execution_count": null,
      "outputs": []
    },
    {
      "cell_type": "markdown",
      "source": [
        "We have now transformed the training-set into one big matrix of integers (tokens) with this shape:"
      ],
      "metadata": {
        "id": "9OV0hwvKZca7"
      }
    },
    {
      "cell_type": "code",
      "source": [
        "x_train_pad.shape"
      ],
      "metadata": {
        "colab": {
          "base_uri": "https://localhost:8080/"
        },
        "id": "kV9zWVIGZWJh",
        "outputId": "c0b6f7b2-6701-474d-e6ac-6ed7003babe2"
      },
      "execution_count": null,
      "outputs": [
        {
          "output_type": "execute_result",
          "data": {
            "text/plain": [
              "(124, 69)"
            ]
          },
          "metadata": {},
          "execution_count": 36
        }
      ]
    },
    {
      "cell_type": "markdown",
      "source": [
        "The matrix for the test-set has the same shape:"
      ],
      "metadata": {
        "id": "7xIEBvEQZsZv"
      }
    },
    {
      "cell_type": "code",
      "source": [
        "x_test_pad.shape"
      ],
      "metadata": {
        "colab": {
          "base_uri": "https://localhost:8080/"
        },
        "id": "3_PGWK7aZfRL",
        "outputId": "9dd49e28-e91c-439c-9155-fa7bb503347d"
      },
      "execution_count": null,
      "outputs": [
        {
          "output_type": "execute_result",
          "data": {
            "text/plain": [
              "(124, 69)"
            ]
          },
          "metadata": {},
          "execution_count": 37
        }
      ]
    },
    {
      "cell_type": "markdown",
      "source": [
        "For example, we had the following sequence of tokens above:"
      ],
      "metadata": {
        "id": "cM8CKjfyZ5a1"
      }
    },
    {
      "cell_type": "code",
      "source": [
        "np.array(x_train_tokens[50])"
      ],
      "metadata": {
        "colab": {
          "base_uri": "https://localhost:8080/"
        },
        "id": "7OWAwiY0Zwnk",
        "outputId": "20346507-8815-499b-ca29-4bc30cf736b6"
      },
      "execution_count": null,
      "outputs": [
        {
          "output_type": "execute_result",
          "data": {
            "text/plain": [
              "array([ 20,  20, 374, 261, 262, 375, 376,  42, 377, 378,  15, 379,  63,\n",
              "       115])"
            ]
          },
          "metadata": {},
          "execution_count": 38
        }
      ]
    },
    {
      "cell_type": "markdown",
      "source": [
        "This has simply been padded to create the following sequence. Note that when this is input to the Recurrent Neural Network, then it first inputs a lot of zeros. If we had padded 'post' then it would input the integer-tokens first and then a lot of zeros. This may confuse the Recurrent Neural Network."
      ],
      "metadata": {
        "id": "fhCvtNxIafYz"
      }
    },
    {
      "cell_type": "code",
      "source": [
        "x_train_pad[50]"
      ],
      "metadata": {
        "colab": {
          "base_uri": "https://localhost:8080/"
        },
        "id": "KabTWGFuZ0kV",
        "outputId": "9a18ec47-9f93-4ec0-cccc-9c1a37169100"
      },
      "execution_count": null,
      "outputs": [
        {
          "output_type": "execute_result",
          "data": {
            "text/plain": [
              "array([  0,   0,   0,   0,   0,   0,   0,   0,   0,   0,   0,   0,   0,\n",
              "         0,   0,   0,   0,   0,   0,   0,   0,   0,   0,   0,   0,   0,\n",
              "         0,   0,   0,   0,   0,   0,   0,   0,   0,   0,   0,   0,   0,\n",
              "         0,   0,   0,   0,   0,   0,   0,   0,   0,   0,   0,   0,   0,\n",
              "         0,   0,   0,  20,  20, 374, 261, 262, 375, 376,  42, 377, 378,\n",
              "        15, 379,  63, 115], dtype=int32)"
            ]
          },
          "metadata": {},
          "execution_count": 39
        }
      ]
    },
    {
      "cell_type": "markdown",
      "source": [
        "## 6. Tokenizer Inverse Map\n",
        "\n",
        "For some strange reason, the Keras implementation of a tokenizer does not seem to have the inverse mapping from integer-tokens back to words, which is needed to reconstruct text-strings from lists of tokens. So we make that mapping here."
      ],
      "metadata": {
        "id": "OD6tUXHTw3Eh"
      }
    },
    {
      "cell_type": "code",
      "source": [
        "idx = tokenizer.word_index\n",
        "inverse_map = dict(zip(idx.values(), idx.keys()))"
      ],
      "metadata": {
        "id": "hmjNi_Onw78O"
      },
      "execution_count": null,
      "outputs": []
    },
    {
      "cell_type": "code",
      "source": [
        "def tokens_to_string(tokens):\n",
        "    # Map from tokens back to words.\n",
        "    words = [inverse_map[token] for token in tokens if token != 0]\n",
        "    \n",
        "    # Concatenate all words.\n",
        "    text = \" \".join(words)\n",
        "\n",
        "    return text"
      ],
      "metadata": {
        "id": "qaU6oVohw9y0"
      },
      "execution_count": null,
      "outputs": []
    },
    {
      "cell_type": "code",
      "source": [
        "train_text[50]"
      ],
      "metadata": {
        "colab": {
          "base_uri": "https://localhost:8080/",
          "height": 35
        },
        "id": "GmAaJUi6xDkZ",
        "outputId": "ed881f34-fb4a-42ad-a7a8-111f9458dd90"
      },
      "execution_count": null,
      "outputs": [
        {
          "output_type": "execute_result",
          "data": {
            "text/plain": [
              "'urgent urgent bartender immediate joining local hire experience transferable attractive salary benefits send whatsapp'"
            ],
            "application/vnd.google.colaboratory.intrinsic+json": {
              "type": "string"
            }
          },
          "metadata": {},
          "execution_count": 42
        }
      ]
    },
    {
      "cell_type": "code",
      "source": [
        "tokens_to_string(x_train_tokens[50])"
      ],
      "metadata": {
        "colab": {
          "base_uri": "https://localhost:8080/",
          "height": 35
        },
        "id": "0PSxresSxUoD",
        "outputId": "24f51e18-70c6-4303-baae-bc8bcc45bf85"
      },
      "execution_count": null,
      "outputs": [
        {
          "output_type": "execute_result",
          "data": {
            "text/plain": [
              "'urgent urgent bartender immediate joining local hire experience transferable attractive salary benefits send whatsapp'"
            ],
            "application/vnd.google.colaboratory.intrinsic+json": {
              "type": "string"
            }
          },
          "metadata": {},
          "execution_count": 43
        }
      ]
    },
    {
      "cell_type": "markdown",
      "source": [
        "## 7. Create the Recurrent Neural Network\n",
        "\n",
        "We are now ready to create the Recurrent Neural Network (RNN). We will use the Keras API for this because of its simplicity."
      ],
      "metadata": {
        "id": "vUuK9Gvva6RM"
      }
    },
    {
      "cell_type": "code",
      "source": [
        "model = Sequential()"
      ],
      "metadata": {
        "id": "NXSw6EhXaj9i"
      },
      "execution_count": null,
      "outputs": []
    },
    {
      "cell_type": "markdown",
      "source": [
        "The first layer in the RNN is a so-called Embedding-layer which converts each integer-token into a vector of values. This is necessary because the integer-tokens may take on values between 0 and 10000 for a vocabulary of 10000 words. The RNN cannot work on values in such a wide range. The embedding-layer is trained as a part of the RNN and will learn to map words with similar semantic meanings to similar embedding-vectors, as will be shown further below.\n",
        "\n",
        "First we define the size of the embedding-vector for each integer-token. In this case we have set it to 100, so that each integer-token will be converted to a vector of length 100. The values of the embedding-vector will generally fall roughly between -1.0 and 1.0, although they may exceed these values somewhat.\n",
        "\n",
        "The size of the embedding-vector is typically selected between 100-300, but it seems to work reasonably well with small values for Sentiment Analysis."
      ],
      "metadata": {
        "id": "o-91njpGa_9c"
      }
    },
    {
      "cell_type": "code",
      "source": [
        "embedding_size = 100"
      ],
      "metadata": {
        "id": "uGg0yPrIa_KW"
      },
      "execution_count": null,
      "outputs": []
    },
    {
      "cell_type": "markdown",
      "source": [
        "The embedding-layer also needs to know the number of words in the vocabulary (`num_words`) and the length of the padded token-sequences (`max_tokens`). We also give this layer a name because we need to retrieve its weights further below."
      ],
      "metadata": {
        "id": "0RZFAVbGbOM7"
      }
    },
    {
      "cell_type": "code",
      "source": [
        "model.add(Embedding(input_dim=num_words,\n",
        "                    output_dim=embedding_size,\n",
        "                    input_length=max_tokens,\n",
        "                    name='layer_embedding'))"
      ],
      "metadata": {
        "id": "pv2JD5KIbJWo"
      },
      "execution_count": null,
      "outputs": []
    },
    {
      "cell_type": "markdown",
      "source": [
        "We can now add the first Gated Recurrent Unit (GRU) to the network. This will have 16 outputs. Because we will add a second GRU after this one, we need to return sequences of data because the next GRU expects sequences as its input."
      ],
      "metadata": {
        "id": "WqCj_R9KbV28"
      }
    },
    {
      "cell_type": "code",
      "source": [
        "model.add(GRU(units=16, return_sequences=True))"
      ],
      "metadata": {
        "id": "jjw49aHtbRf7"
      },
      "execution_count": null,
      "outputs": []
    },
    {
      "cell_type": "markdown",
      "source": [
        "This adds the second GRU with 8 output units. This will be followed by another GRU so it must also return sequences."
      ],
      "metadata": {
        "id": "tbhA-Tkqbe_M"
      }
    },
    {
      "cell_type": "code",
      "source": [
        "model.add(GRU(units=8, return_sequences=True))"
      ],
      "metadata": {
        "id": "NJv6j3KzbY3u"
      },
      "execution_count": null,
      "outputs": []
    },
    {
      "cell_type": "markdown",
      "source": [
        "This adds the third and final GRU with 4 output units. This will be followed by a dense-layer, so it should only give the final output of the GRU and not a whole sequence of outputs."
      ],
      "metadata": {
        "id": "QpYxFP1PbkYl"
      }
    },
    {
      "cell_type": "code",
      "source": [
        "model.add(GRU(units=4))"
      ],
      "metadata": {
        "id": "GLokRPjvbhoz"
      },
      "execution_count": null,
      "outputs": []
    },
    {
      "cell_type": "markdown",
      "source": [
        "Add a fully-connected / dense layer which computes a value between 0.0 and 1.0 that will be used as the classification output."
      ],
      "metadata": {
        "id": "zFb3kAiFbrnT"
      }
    },
    {
      "cell_type": "code",
      "source": [
        "model.add(Dense(1, activation='sigmoid'))"
      ],
      "metadata": {
        "id": "19VzLZPaboBb"
      },
      "execution_count": null,
      "outputs": []
    },
    {
      "cell_type": "markdown",
      "source": [
        "Use the Adam optimizer with the given learning-rate."
      ],
      "metadata": {
        "id": "LM-zfecWbxU0"
      }
    },
    {
      "cell_type": "code",
      "source": [
        "optimizer = Adam(lr=1e-3)"
      ],
      "metadata": {
        "colab": {
          "base_uri": "https://localhost:8080/"
        },
        "id": "8McRylLwbuir",
        "outputId": "e93c149a-f9d2-4809-cb89-5aeaedeaf206"
      },
      "execution_count": null,
      "outputs": [
        {
          "output_type": "stream",
          "name": "stderr",
          "text": [
            "/usr/local/lib/python3.7/dist-packages/keras/optimizers/optimizer_v2/adam.py:110: UserWarning: The `lr` argument is deprecated, use `learning_rate` instead.\n",
            "  super(Adam, self).__init__(name, **kwargs)\n"
          ]
        }
      ]
    },
    {
      "cell_type": "markdown",
      "source": [
        "Compile the Keras model so it is ready for training."
      ],
      "metadata": {
        "id": "00x7BJQbcAne"
      }
    },
    {
      "cell_type": "code",
      "source": [
        "model.compile(loss='binary_crossentropy',\n",
        "              optimizer=optimizer,\n",
        "              metrics=['accuracy'])"
      ],
      "metadata": {
        "id": "nOqlOyrMb3NE"
      },
      "execution_count": null,
      "outputs": []
    },
    {
      "cell_type": "code",
      "source": [
        "model.summary()"
      ],
      "metadata": {
        "colab": {
          "base_uri": "https://localhost:8080/"
        },
        "id": "EjOCx51ecEWs",
        "outputId": "c33849f0-faa9-4511-fe4a-eda819cd1aa0"
      },
      "execution_count": null,
      "outputs": [
        {
          "output_type": "stream",
          "name": "stdout",
          "text": [
            "Model: \"sequential\"\n",
            "_________________________________________________________________\n",
            " Layer (type)                Output Shape              Param #   \n",
            "=================================================================\n",
            " layer_embedding (Embedding)  (None, 69, 100)          100000    \n",
            "                                                                 \n",
            " gru (GRU)                   (None, 69, 16)            5664      \n",
            "                                                                 \n",
            " gru_1 (GRU)                 (None, 69, 8)             624       \n",
            "                                                                 \n",
            " gru_2 (GRU)                 (None, 4)                 168       \n",
            "                                                                 \n",
            " dense (Dense)               (None, 1)                 5         \n",
            "                                                                 \n",
            "=================================================================\n",
            "Total params: 106,461\n",
            "Trainable params: 106,461\n",
            "Non-trainable params: 0\n",
            "_________________________________________________________________\n"
          ]
        }
      ]
    },
    {
      "cell_type": "markdown",
      "source": [
        "## 8. Train the Recurrent Neural Network\n",
        "\n",
        "We can now train the model. Note that we are using the data-set with the padded sequences. We use 5% of the training-set as a small validation-set, so we have a rough idea whether the model is generalizing well or if it is perhaps over-fitting to the training-set."
      ],
      "metadata": {
        "id": "AIYY9k7ycO1T"
      }
    },
    {
      "cell_type": "code",
      "source": [
        "%%time\n",
        "train_label = np.array(train_label)\n",
        "model.fit(x_train_pad, train_label, \n",
        "          validation_split=0.05, epochs=10, batch_size=32)"
      ],
      "metadata": {
        "colab": {
          "base_uri": "https://localhost:8080/"
        },
        "id": "Fk2FvrMecHug",
        "outputId": "43384dd5-8ae8-43c8-aede-822de1da6da9"
      },
      "execution_count": null,
      "outputs": [
        {
          "output_type": "stream",
          "name": "stdout",
          "text": [
            "Epoch 1/10\n",
            "4/4 [==============================] - 10s 968ms/step - loss: 0.6916 - accuracy: 0.5043 - val_loss: 0.6728 - val_accuracy: 0.7143\n",
            "Epoch 2/10\n",
            "4/4 [==============================] - 1s 206ms/step - loss: 0.6712 - accuracy: 0.7350 - val_loss: 0.6530 - val_accuracy: 1.0000\n",
            "Epoch 3/10\n",
            "4/4 [==============================] - 1s 169ms/step - loss: 0.6485 - accuracy: 0.8718 - val_loss: 0.6272 - val_accuracy: 1.0000\n",
            "Epoch 4/10\n",
            "4/4 [==============================] - 1s 202ms/step - loss: 0.6179 - accuracy: 0.9658 - val_loss: 0.5920 - val_accuracy: 1.0000\n",
            "Epoch 5/10\n",
            "4/4 [==============================] - 1s 172ms/step - loss: 0.5768 - accuracy: 0.9915 - val_loss: 0.5436 - val_accuracy: 1.0000\n",
            "Epoch 6/10\n",
            "4/4 [==============================] - 1s 187ms/step - loss: 0.5221 - accuracy: 0.9915 - val_loss: 0.4837 - val_accuracy: 1.0000\n",
            "Epoch 7/10\n",
            "4/4 [==============================] - 1s 165ms/step - loss: 0.4555 - accuracy: 0.9915 - val_loss: 0.4120 - val_accuracy: 1.0000\n",
            "Epoch 8/10\n",
            "4/4 [==============================] - 1s 211ms/step - loss: 0.3821 - accuracy: 0.9915 - val_loss: 0.3388 - val_accuracy: 1.0000\n",
            "Epoch 9/10\n",
            "4/4 [==============================] - 1s 166ms/step - loss: 0.3127 - accuracy: 0.9915 - val_loss: 0.2746 - val_accuracy: 1.0000\n",
            "Epoch 10/10\n",
            "4/4 [==============================] - 1s 165ms/step - loss: 0.2561 - accuracy: 0.9915 - val_loss: 0.2250 - val_accuracy: 1.0000\n",
            "CPU times: user 14.2 s, sys: 389 ms, total: 14.6 s\n",
            "Wall time: 17 s\n"
          ]
        },
        {
          "output_type": "execute_result",
          "data": {
            "text/plain": [
              "<keras.callbacks.History at 0x7f2549b390d0>"
            ]
          },
          "metadata": {},
          "execution_count": 54
        }
      ]
    },
    {
      "cell_type": "markdown",
      "source": [
        "## 9. Performance on Test-Set\n",
        "\n",
        "Now that the model has been trained we can calculate its classification accuracy on the test-set."
      ],
      "metadata": {
        "id": "X2HjAvll5cuY"
      }
    },
    {
      "cell_type": "code",
      "source": [
        "%%time\n",
        "val_label = np.array(val_label)\n",
        "result = model.evaluate(x_test_pad, val_label)"
      ],
      "metadata": {
        "colab": {
          "base_uri": "https://localhost:8080/"
        },
        "id": "ILw_QfrmcRbf",
        "outputId": "4dbc1368-876b-474a-fefe-4fa946ed7a68"
      },
      "execution_count": null,
      "outputs": [
        {
          "output_type": "stream",
          "name": "stdout",
          "text": [
            "4/4 [==============================] - 0s 30ms/step - loss: 0.2851 - accuracy: 0.9597\n",
            "CPU times: user 182 ms, sys: 7.84 ms, total: 190 ms\n",
            "Wall time: 236 ms\n"
          ]
        }
      ]
    },
    {
      "cell_type": "code",
      "source": [
        "print(\"Accuracy: {0:.2%}\".format(result[1]))"
      ],
      "metadata": {
        "colab": {
          "base_uri": "https://localhost:8080/"
        },
        "id": "s8w87IJP5iWX",
        "outputId": "d9d51d13-2a3e-48c2-d2ab-529537a49dbc"
      },
      "execution_count": null,
      "outputs": [
        {
          "output_type": "stream",
          "name": "stdout",
          "text": [
            "Accuracy: 95.97%\n"
          ]
        }
      ]
    },
    {
      "cell_type": "markdown",
      "source": [
        "## 10. Test New Data\n",
        "\n",
        "Let us try and classify new texts that we make up. "
      ],
      "metadata": {
        "id": "w-CnFSxcJvEa"
      }
    },
    {
      "cell_type": "code",
      "source": [
        "text1 = \"We're hiring DOMESTIC HELPER Malaysia, Qatar and Kuwait..we have also for Singapore peru walang cash assistance.#Legit pm me.\"\n",
        "text2 = \"KUWAIT 1010 EPHESIANS HUMAN RESOURCES INC COLLINS AVENUE CO FOR LADIES HEALTH INSTITUTE & BEAUTY SALON REGULAR ACCREDITATION SPECIALIST HAIR FEMALE\"\n",
        "text3 = \"Interested female bound to HONG KONG,MALAYSIA, QATAR, Saudi KUWAIT....NO....PLACEMENT FEE NO...SALARY DEDUCTION.\"\n",
        "text4 = \"Looking for Caretaker in TAIWAN NO PLACEMENT FEMALE ONLY JUST PM US FOR MORE INFORMATION\"\n",
        "text5 = \"SAUDI ARABIA 1010 EPHESIANS HUMAN RESOURCES INC FALAH MEDICAL COMPLEX / FALAH POLYCLINICS REGULAR ACCREDITATION NURSE STAFF\"\n",
        "text6 = \"I'm reaching out to share our opening for our Web Researcher position. The rate starts at $5/hr to $7/hr and we offer flexible schedule.\"\n",
        "text7 = \"Sa Willing to Wait at Sumunod sa Proseso ng South Korea Lang Po Gov.-Gov. Process No Placement Fee Basic Salary:83K-100K+ if Laging OT Male:18-36,Female:18-35 as Factory Worker.\"\n",
        "text8 = \"Looking for 2 males barista and 2 males chef assistant Bound to saudi\"\n",
        "text9 = \"SINGAPORE 1010 EPHESIANS HUMAN RESOURCES INC INTERHELP AGENCY REGULAR ACCREDITATION WORKER DOMESTIC\"\n",
        "text10 = \"Looking for pogo online casino agent Thailand base 40k salary Pm me with passport\"\n",
        "texts = [text1, text2, text3, text4, text5, text6, text7, text8, text9, text10]"
      ],
      "metadata": {
        "id": "Hc-JDoUw5iQH"
      },
      "execution_count": null,
      "outputs": []
    },
    {
      "cell_type": "code",
      "source": [
        "tokens = tokenizer.texts_to_sequences(texts)"
      ],
      "metadata": {
        "id": "MiVUjs8YK9NW"
      },
      "execution_count": null,
      "outputs": []
    },
    {
      "cell_type": "code",
      "source": [
        "tokens_pad = pad_sequences(tokens, maxlen=max_tokens,\n",
        "                           padding=pad, truncating=pad)\n",
        "tokens_pad.shape"
      ],
      "metadata": {
        "colab": {
          "base_uri": "https://localhost:8080/"
        },
        "id": "Y9e-mTJsLAp_",
        "outputId": "a8bc2cb1-5c1e-46fd-93d5-d4432fc7fd33"
      },
      "execution_count": null,
      "outputs": [
        {
          "output_type": "execute_result",
          "data": {
            "text/plain": [
              "(10, 69)"
            ]
          },
          "metadata": {},
          "execution_count": 69
        }
      ]
    },
    {
      "cell_type": "code",
      "source": [
        "model.predict(tokens_pad)"
      ],
      "metadata": {
        "colab": {
          "base_uri": "https://localhost:8080/"
        },
        "id": "ash14Ks8LGkn",
        "outputId": "71a31ba4-777b-4522-a913-779bb981be2f"
      },
      "execution_count": null,
      "outputs": [
        {
          "output_type": "stream",
          "name": "stdout",
          "text": [
            "1/1 [==============================] - 0s 27ms/step\n"
          ]
        },
        {
          "output_type": "execute_result",
          "data": {
            "text/plain": [
              "array([[0.79285395],\n",
              "       [0.17504103],\n",
              "       [0.7956146 ],\n",
              "       [0.75160867],\n",
              "       [0.1929076 ],\n",
              "       [0.49083927],\n",
              "       [0.71729803],\n",
              "       [0.53892094],\n",
              "       [0.21887596],\n",
              "       [0.6888074 ]], dtype=float32)"
            ]
          },
          "metadata": {},
          "execution_count": 70
        }
      ]
    },
    {
      "cell_type": "markdown",
      "source": [
        "A value close to 0.0 means a Low Risk post and a value close to 1.0 means a High Risk job posting. These numbers will vary every time you train the model."
      ],
      "metadata": {
        "id": "Z3OiHRksLQ4g"
      }
    },
    {
      "cell_type": "markdown",
      "source": [
        "##***Acknowledgement:***\n",
        "This Capstone project is based on the winning solution submitted by our team during the **DataQuest2022: Gender-responsive Labor Migration** hackathon organized by Cirrolytix in partnership with BRIDGE, Migration Multi-Partner Trust Fund, ILO, IOM UN Migration, UN Women, Data Ethics PH and Foundations for Media Alternatives. \n",
        "\n",
        "Other members of the team gave their consents for me to improve on the previous model and use it as my Final Capstone project. Members of the Team DARNA are:\n",
        "\n",
        "\n",
        "1.   Amee Kristin Ayco\n",
        "2.   Joshua Bon Roco\n",
        "1.   Noe Christian Nolasco\n",
        "1.   Christian D. Laurio\n",
        "\n",
        "\n",
        "\n",
        "\n",
        "\n"
      ],
      "metadata": {
        "id": "W27vxqYANkGh"
      }
    },
    {
      "cell_type": "markdown",
      "source": [
        "![DARNA Team Members.jpg](data:image/jpeg;base64,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)"
      ],
      "metadata": {
        "id": "ffGDtgDlNiym"
      }
    },
    {
      "cell_type": "code",
      "source": [],
      "metadata": {
        "id": "wS6rTGpGR_yn"
      },
      "execution_count": null,
      "outputs": []
    }
  ]
}